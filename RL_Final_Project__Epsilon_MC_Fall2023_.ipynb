{
  "nbformat": 4,
  "nbformat_minor": 0,
  "metadata": {
    "colab": {
      "provenance": [],
      "authorship_tag": "ABX9TyMKSRh5CFIMi2GIl1sSXQdX",
      "include_colab_link": true
    },
    "kernelspec": {
      "name": "python3",
      "display_name": "Python 3"
    },
    "language_info": {
      "name": "python"
    }
  },
  "cells": [
    {
      "cell_type": "markdown",
      "metadata": {
        "id": "view-in-github",
        "colab_type": "text"
      },
      "source": [
        "<a href=\"https://colab.research.google.com/github/Mbigdeli2003/Reinforcement-Learning/blob/main/RL_Final_Project__Epsilon_MC_Fall2023_.ipynb\" target=\"_parent\"><img src=\"https://colab.research.google.com/assets/colab-badge.svg\" alt=\"Open In Colab\"/></a>"
      ]
    },
    {
      "cell_type": "markdown",
      "source": [
        "# Reinforcement Learning Final Project Fall 2023- Monte Carlo with epsilon for explore"
      ],
      "metadata": {
        "id": "7xghJxsVlOP8"
      }
    },
    {
      "cell_type": "code",
      "execution_count": 1,
      "metadata": {
        "id": "4DYuKXx_lBPf"
      },
      "outputs": [],
      "source": [
        "import numpy as np\n",
        "import pandas as pd\n",
        "import matplotlib.pyplot as plt\n",
        "import matplotlib\n",
        "import gym\n",
        "from collections import deque\n",
        "import numpy as np\n",
        "import argparse\n",
        "import os\n",
        "import time"
      ]
    },
    {
      "cell_type": "markdown",
      "source": [
        "### 6*8 Table\n",
        "### Goal Reward=0\n",
        "### each step Reward=-1\n",
        "### Hole Reward=-10"
      ],
      "metadata": {
        "id": "Z_60tc60lSZL"
      }
    },
    {
      "cell_type": "code",
      "source": [
        "# Define Class\n",
        "class Goal_vs_Hole_v0():\n",
        "   pass"
      ],
      "metadata": {
        "id": "AnKwXxGPlTck"
      },
      "execution_count": 2,
      "outputs": []
    },
    {
      "cell_type": "markdown",
      "source": [
        "## Define Rewards"
      ],
      "metadata": {
        "id": "dytxo2h6lZW7"
      }
    },
    {
      "cell_type": "code",
      "source": [
        "def init_reward_table(self):\n",
        "    self.col=4\n",
        "    self.row=48\n",
        "    self.reward_table =-1*np.ones([self.row, self.col])\n",
        "\n",
        "# Holes\n",
        "    self.reward_table [9,2]=-100\n",
        "    self.reward_table [17,2]=-100\n",
        "    self.reward_table [25,2]=-100\n",
        "    self.reward_table [3,2]=-100\n",
        "    self.reward_table [11,0]=-100\n",
        "    self.reward_table [11,2]=-100\n",
        "    self.reward_table [13,0]=-100\n",
        "    self.reward_table [19,0]=-100\n",
        "    self.reward_table [27,0]=-100\n",
        "    self.reward_table [5,0]=-100\n",
        "    self.reward_table [2,1]=-100\n",
        "    self.reward_table [20,3]=-100\n",
        "    self.reward_table [34,3]=-100\n",
        "\n",
        "    self.reward_table [6,2]=0\n",
        "    for i in range(0,48):\n",
        "        for j in range(0,4):\n",
        "      ####Edges\n",
        "            if (j==0) and (i==0 or i==8 or i==16 or i==24 or i==32 or i==40):\n",
        "               self.reward_table[i,j]==[]\n",
        "\n",
        "            if (j==3) and (i==0 or i==1 or i==2 or i==3 or i==4 or i==5 or i==6 or i==7):\n",
        "               self.reward_table[i,j]==[]\n",
        "\n",
        "            if (j==2) and (i==23 or i==31 or i==39 or i==47):\n",
        "               self.reward_table[i,j]==[]\n",
        "\n",
        "            if (j==1) and (i==40 or i==41 or i==42 or i==43 or i==44 or i==45 or i==46 or i==47):\n",
        "              self.reward_table[i,j]==[]\n",
        "### Considering Walls in table\n",
        "\n",
        "    self.reward_table[13,2]==[]\n",
        "    self.reward_table[22,3]==[]\n",
        "    self.reward_table[23,3]==[]\n",
        "    self.reward_table[6,1]==[]\n",
        "\n",
        "###Walls\n",
        "    self.reward_table[14,0]==[]\n",
        "    self.reward_table[14,1]==[]\n",
        "    self.reward_table[14,2]==[]\n",
        "    self.reward_table[14,3]==[]\n",
        "\n",
        "    self.reward_table[15,0]==[]\n",
        "    self.reward_table[15,1]==[]\n",
        "    self.reward_table[15,2]==[]\n",
        "    self.reward_table[15,3]==[]\n",
        "\n",
        "\n",
        "\n",
        "Goal_vs_Hole_v0.init_reward_table =init_reward_table"
      ],
      "metadata": {
        "id": "G0P90vRSlXVT"
      },
      "execution_count": 21,
      "outputs": []
    },
    {
      "cell_type": "markdown",
      "source": [
        "## Action Space"
      ],
      "metadata": {
        "id": "Xunyg7P3s7Kt"
      }
    },
    {
      "cell_type": "code",
      "source": [
        "\"\"\"\"\n",
        "Table\n",
        "0 -Left 1-Down 2-Right 3-Up\n",
        "𝑆0\t𝑆1\t𝑆2\t𝑆3\t𝑆4\t𝑆5\t𝑆6\t𝑆7\n",
        "𝑆8\t𝑆9\t𝑆10\t𝑆11\t𝑆12\t𝑆13\t𝑆14\t𝑆15\n",
        "𝑆16\t𝑆17\t𝑆18\t𝑆19\t𝑆20\t𝑆21\t𝑆22\t𝑆23\n",
        "𝑆24\t𝑆25\t𝑆26\t𝑆27\t𝑆28\t𝑆29\t𝑆30\t𝑆31\n",
        "𝑆32\t𝑆33\t𝑆34\t𝑆35\t𝑆36\t𝑆37\t𝑆38\t𝑆39\n",
        "𝑆40\t𝑆41\t𝑆42\t𝑆43\t𝑆44\t𝑆45\t𝑆46\t𝑆47\n",
        "\"\"\"\n",
        "def init_transition_table(self):\n",
        "    self.row=48\n",
        "    self.col=4\n",
        "    #self.action_space=np.arange(0,4,1)\n",
        "    #self.observation_space=np.arange(0,48,1)\n",
        "    #self.observation_terminal=[4,10,12,18,26]\n",
        "    #self.observation_terminal=[0,1,2,3,5,6,7,8,9,11,13,14,15,16,17,19,20,21,22,23,24,25,27,28,29,30,31,32,33,34,35,36,37,38,39,40,41,42,43,44,45,46,47]\n",
        "    self.transition_table = np.zeros([self.row,self.col], dtype=int)\n",
        "    # state 0\n",
        "    self.transition_table[0,0]=0\n",
        "    self.transition_table[0,1]=8\n",
        "    self.transition_table[0,2]=1\n",
        "    self.transition_table[0,3]=0\n",
        "\n",
        "    # State 1\n",
        "    self.transition_table[1,0]=0\n",
        "    self.transition_table[1,1]=9\n",
        "    self.transition_table[1,2]=2\n",
        "    self.transition_table[1,3]=1\n",
        "\n",
        "    #Satet 2\n",
        "    self.transition_table[2,0]=1\n",
        "    self.transition_table[2,1]=10\n",
        "    self.transition_table[2,2]=3\n",
        "    self.transition_table[2,3]=2\n",
        "\n",
        "    #Satet 3\n",
        "    self.transition_table[3,0]=2\n",
        "    self.transition_table[3,1]=11\n",
        "    self.transition_table[3,2]=4\n",
        "    self.transition_table[3,3]=3\n",
        "\n",
        "    #Satet 5\n",
        "    self.transition_table[5,0]=4\n",
        "    self.transition_table[5,1]=13\n",
        "    self.transition_table[5,2]=6\n",
        "    self.transition_table[5,3]=5\n",
        "\n",
        "    #Satet 6\n",
        "    self.transition_table[6,0]=5\n",
        "    self.transition_table[6,1]=6\n",
        "    self.transition_table[6,2]=7\n",
        "    self.transition_table[6,3]=6\n",
        "\n",
        "    #Satet 8\n",
        "    self.transition_table[8,0]=8\n",
        "    self.transition_table[8,1]=16\n",
        "    self.transition_table[8,2]=9\n",
        "    self.transition_table[8,3]=0\n",
        "\n",
        "    #state 9\n",
        "    self.transition_table[9,0]=8\n",
        "    self.transition_table[9,1]=17\n",
        "    self.transition_table[9,2]=10\n",
        "    self.transition_table[9,3]=1\n",
        "\n",
        "    #state 11\n",
        "    self.transition_table[11,0]=10\n",
        "    self.transition_table[11,1]=19\n",
        "    self.transition_table[11,2]=12\n",
        "    self.transition_table[11,3]=3\n",
        "\n",
        "    #state 13\n",
        "    self.transition_table[13,0]=12\n",
        "    self.transition_table[13,1]=21\n",
        "    self.transition_table[13,2]=13\n",
        "    self.transition_table[13,3]=5\n",
        "\n",
        "    #state 16\n",
        "    self.transition_table[16,0]=16\n",
        "    self.transition_table[16,1]=24\n",
        "    self.transition_table[16,2]=17\n",
        "    self.transition_table[16,3]=8\n",
        "\n",
        "    #state 17\n",
        "    self.transition_table[17,0]=16\n",
        "    self.transition_table[17,1]=25\n",
        "    self.transition_table[17,2]=18\n",
        "    self.transition_table[17,3]=9\n",
        "\n",
        "    #state 19\n",
        "    self.transition_table[19,0]=18\n",
        "    self.transition_table[19,1]=27\n",
        "    self.transition_table[19,2]=20\n",
        "    self.transition_table[19,3]=11\n",
        "\n",
        "    #state 20\n",
        "    self.transition_table[20,0]=19\n",
        "    self.transition_table[20,1]=28\n",
        "    self.transition_table[20,2]=21\n",
        "    self.transition_table[20,3]=12\n",
        "\n",
        "    #state 21\n",
        "    self.transition_table[21,0]=20\n",
        "    self.transition_table[21,1]=29\n",
        "    self.transition_table[21,2]=22\n",
        "    self.transition_table[21,3]=13\n",
        "\n",
        "    #state 22\n",
        "    self.transition_table[22,0]=21\n",
        "    self.transition_table[22,1]=30\n",
        "    self.transition_table[22,2]=23\n",
        "    self.transition_table[22,3]=22\n",
        "\n",
        "    #state 23\n",
        "    self.transition_table[23,0]=22\n",
        "    self.transition_table[23,1]=31\n",
        "    self.transition_table[23,2]=23\n",
        "    self.transition_table[23,3]=23\n",
        "\n",
        "    #state 24\n",
        "    self.transition_table[24,0]=24\n",
        "    self.transition_table[24,1]=32\n",
        "    self.transition_table[24,2]=25\n",
        "    self.transition_table[24,3]=16\n",
        "\n",
        "    #state 16\n",
        "    self.transition_table[25,0]=24\n",
        "    self.transition_table[25,1]=33\n",
        "    self.transition_table[25,2]=26\n",
        "    self.transition_table[25,3]=17\n",
        "\n",
        "    #state 27\n",
        "    self.transition_table[27,0]=26\n",
        "    self.transition_table[27,1]=35\n",
        "    self.transition_table[27,2]=28\n",
        "    self.transition_table[27,3]=19\n",
        "\n",
        "    #state 28\n",
        "    self.transition_table[28,0]=27\n",
        "    self.transition_table[28,1]=36\n",
        "    self.transition_table[28,2]=29\n",
        "    self.transition_table[28,3]=20\n",
        "\n",
        "    #state 29\n",
        "    self.transition_table[29,0]=28\n",
        "    self.transition_table[29,1]=37\n",
        "    self.transition_table[29,2]=30\n",
        "    self.transition_table[29,3]=21\n",
        "\n",
        "    #state 30\n",
        "    self.transition_table[30,0]=29\n",
        "    self.transition_table[30,1]=38\n",
        "    self.transition_table[30,2]=31\n",
        "    self.transition_table[30,3]=22\n",
        "\n",
        "    #state 31\n",
        "    self.transition_table[31,0]=30\n",
        "    self.transition_table[31,1]=39\n",
        "    self.transition_table[31,2]=31\n",
        "    self.transition_table[31,3]=23\n",
        "\n",
        "    #state 32\n",
        "    self.transition_table[32,0]=32\n",
        "    self.transition_table[32,1]=40\n",
        "    self.transition_table[32,2]=33\n",
        "    self.transition_table[32,3]=24\n",
        "\n",
        "    #state 33\n",
        "    self.transition_table[33,0]=32\n",
        "    self.transition_table[33,1]=41\n",
        "    self.transition_table[33,2]=34\n",
        "    self.transition_table[33,3]=25\n",
        "\n",
        "    #state 34\n",
        "    self.transition_table[34,0]=33\n",
        "    self.transition_table[34,1]=42\n",
        "    self.transition_table[34,2]=35\n",
        "    self.transition_table[34,3]=26\n",
        "\n",
        "    #state 35\n",
        "    self.transition_table[35,0]=34\n",
        "    self.transition_table[35,1]=42\n",
        "    self.transition_table[35,2]=36\n",
        "    self.transition_table[35,3]=27\n",
        "\n",
        "    #state 36\n",
        "    self.transition_table[36,0]=35\n",
        "    self.transition_table[36,1]=43\n",
        "    self.transition_table[36,2]=37\n",
        "    self.transition_table[36,3]=28\n",
        "\n",
        "    #state 37\n",
        "    self.transition_table[37,0]=36\n",
        "    self.transition_table[37,1]=45\n",
        "    self.transition_table[37,2]=38\n",
        "    self.transition_table[37,3]=29\n",
        "\n",
        "    #state 38\n",
        "    self.transition_table[38,0]=37\n",
        "    self.transition_table[38,1]=46\n",
        "    self.transition_table[38,2]=39\n",
        "    self.transition_table[38,3]=30\n",
        "\n",
        "    #state 39\n",
        "    self.transition_table[39,0]=38\n",
        "    self.transition_table[39,1]=47\n",
        "    self.transition_table[39,2]=39\n",
        "    self.transition_table[39,3]=31\n",
        "\n",
        "    #state 40\n",
        "    self.transition_table[40,0]=40\n",
        "    self.transition_table[40,1]=40\n",
        "    self.transition_table[40,2]=41\n",
        "    self.transition_table[40,3]=32\n",
        "\n",
        "    #state 41\n",
        "    self.transition_table[41,0]=40\n",
        "    self.transition_table[41,1]=41\n",
        "    self.transition_table[41,2]=42\n",
        "    self.transition_table[41,3]=33\n",
        "\n",
        "    #state 42\n",
        "    self.transition_table[42,0]=41\n",
        "    self.transition_table[42,1]=42\n",
        "    self.transition_table[42,2]=43\n",
        "    self.transition_table[42,3]=34\n",
        "\n",
        "    #state 43\n",
        "    self.transition_table[43,0]=42\n",
        "    self.transition_table[43,1]=43\n",
        "    self.transition_table[43,2]=44\n",
        "    self.transition_table[43,3]=35\n",
        "\n",
        "    #state 44\n",
        "    self.transition_table[44,0]=43\n",
        "    self.transition_table[44,1]=44\n",
        "    self.transition_table[44,2]=45\n",
        "    self.transition_table[44,3]=36\n",
        "\n",
        "    #state 45\n",
        "    self.transition_table[45,0]=44\n",
        "    self.transition_table[45,1]=45\n",
        "    self.transition_table[45,2]=46\n",
        "    self.transition_table[45,3]=37\n",
        "\n",
        "    #state 46\n",
        "    self.transition_table[46,0]=45\n",
        "    self.transition_table[46,1]=46\n",
        "    self.transition_table[46,2]=47\n",
        "    self.transition_table[46,3]=38\n",
        "\n",
        "    #state 47\n",
        "    self.transition_table[47,0]=46\n",
        "    self.transition_table[47,1]=47\n",
        "    self.transition_table[47,2]=47\n",
        "    self.transition_table[47,3]=39\n",
        "\n",
        "###Walls\n",
        "    self.transition_table[14,0]==[]\n",
        "    self.transition_table[14,1]==[]\n",
        "    self.transition_table[14,2]==[]\n",
        "    self.transition_table[14,3]==[]\n",
        "\n",
        "    self.transition_table[15,0]==[]\n",
        "    self.transition_table[15,1]==[]\n",
        "    self.transition_table[15,2]==[]\n",
        "    self.transition_table[15,3]==[]\n",
        "\n",
        " #Terminal States\n",
        "\n",
        "    for k in range(0,4,1):\n",
        "        self.transition_table[7,k]=7\n",
        "        self.transition_table[4,k]=4\n",
        "        self.transition_table[10,k]=10\n",
        "        self.transition_table[12,k]=12\n",
        "        self.transition_table[18,k]=18\n",
        "        self.transition_table[26,k]=26\n",
        "\n",
        "Goal_vs_Hole_v0.init_transition_table = init_transition_table"
      ],
      "metadata": {
        "id": "6XjdB8oVs_xO"
      },
      "execution_count": 4,
      "outputs": []
    },
    {
      "cell_type": "markdown",
      "source": [
        "## Functions"
      ],
      "metadata": {
        "id": "zrHaOQiFtB_7"
      }
    },
    {
      "cell_type": "code",
      "source": [
        "## start of episode\n",
        "def reset(self,start_state=0):\n",
        "    self.state=start_state\n",
        "    return self.state\n",
        "\n",
        "Goal_vs_Hole_v0.reset = reset"
      ],
      "metadata": {
        "id": "dlXTcfVOtDp2"
      },
      "execution_count": 5,
      "outputs": []
    },
    {
      "cell_type": "code",
      "source": [
        "def __init__(self, start_state=0):\n",
        "  # 4 action\n",
        "  # 0-Left 1-Down 2-Right 3-Up\n",
        "    self.col=4\n",
        "\n",
        "  # states\n",
        "    self.row = 48\n",
        "\n",
        "  #setup the environment\n",
        "    self.q_table = np.zeros([self.row,self.col])\n",
        "    # self.q_a_table = np.zeros([self.row,self.col])\n",
        "    # self.q_b_table = np.zeros([self.row,self.col])\n",
        "    self.init_transition_table()\n",
        "    self.init_reward_table()\n",
        "    self.V_MC=np.zeros([self.row,self.col])\n",
        "  #discount Factor\n",
        "    self.gamma=0.9\n",
        "\n",
        "  #10% exploration, 90% precent exploration\n",
        "    self.epsilon=0.1\n",
        "\n",
        "  ##exploration decays by this factor every episode\n",
        "    self.epsion_decay=0.99 # since it has not been given in the problem\n",
        "  ## eplore 10% and exploit 90%\n",
        "    self.epsilon_min=0.1\n",
        "\n",
        "  #Reset the environemnt\n",
        "    self.reset(start_state)\n",
        "    self.is_explore=True\n",
        "\n",
        "Goal_vs_Hole_v0.__init__=__init__"
      ],
      "metadata": {
        "colab": {
          "base_uri": "https://localhost:8080/"
        },
        "id": "XNttJhxLtG98",
        "outputId": "fd056af4-a0f6-4113-c4bd-09354d530ac1"
      },
      "execution_count": 28,
      "outputs": [
        {
          "output_type": "stream",
          "name": "stderr",
          "text": [
            "/usr/local/lib/python3.10/dist-packages/ipykernel/ipkernel.py:283: DeprecationWarning: `should_run_async` will not call `transform_cell` automatically in the future. Please pass the result to `transformed_cell` argument and any exception that happen during thetransform in `preprocessing_exc_tuple` in IPython 7.17 and above.\n",
            "  and should_run_async(code)\n"
          ]
        }
      ]
    },
    {
      "cell_type": "code",
      "source": [
        "#Agent win when the goal is reached\n",
        "def is_in_win_state(self):\n",
        "    return self.state==7\n",
        "Goal_vs_Hole_v0.is_in_win_state = is_in_win_state"
      ],
      "metadata": {
        "id": "5w84kp-EtS89"
      },
      "execution_count": 7,
      "outputs": []
    },
    {
      "cell_type": "code",
      "source": [
        "# excute the action on the environment\n",
        "def step(self, action):\n",
        "  #determine the next_state given state and action\n",
        "    next_state=self.transition_table[self.state, action]\n",
        "  # done is true if next_state is Goal or Hole\n",
        "    done = (next_state==7) or (next_state==4) or (next_state==10) or (next_state==12) or (next_state==18) or (next_state==26)\n",
        "\n",
        "  #reward given the state and action (collect reward)\n",
        "    reward=self.reward_table[self.state, action]\n",
        "  # the environmennt is now in new state\n",
        "    self.state=next_state\n",
        "\n",
        "    return next_state, reward, done\n",
        "\n",
        "Goal_vs_Hole_v0.step = step"
      ],
      "metadata": {
        "id": "ewKhXmWntUrG"
      },
      "execution_count": 8,
      "outputs": []
    },
    {
      "cell_type": "code",
      "source": [
        "# determine the next Action\n",
        "def act(self):\n",
        "  #-Left 1-Down 2-Right #-Up\n",
        "    if np.random.rand() <=  self.epsilon:\n",
        "  #explore - do random actions\n",
        "       self.is_explore = True\n",
        "  #find valid transitions from current state\n",
        "    valid_actions_from_state = np.where(self.transition_table[self.state,:]!= self.state)\n",
        "  #return np.random.choice\n",
        "    #return np.random.choice([0,action])\n",
        "    if valid_actions_from_state[0]==[]:\n",
        "       return np.random.choice(np.arange(0,4,1))\n",
        "    if valid_actions_from_state[0]!=[]:\n",
        "       return np.random.choice(valid_actions_from_state[0])\n",
        "  # otherwise, action is from exploitation\n",
        "    self.is_explore = False\n",
        "    return np.argmax(self.q_table[self.state,:])\n",
        "\n",
        "Goal_vs_Hole_v0.act = act"
      ],
      "metadata": {
        "id": "9vyDK7lctYOD"
      },
      "execution_count": 9,
      "outputs": []
    },
    {
      "cell_type": "markdown",
      "source": [
        "### Monte Carlo Update"
      ],
      "metadata": {
        "id": "8yUzriHLHt9Y"
      }
    },
    {
      "cell_type": "code",
      "source": [
        "# Double Q - Update Q Table using Qa(s',a') and Qb(s',a')\n",
        "\n",
        "def update_q_table(self,state,action,reward, next_state,result_sum,results_list):\n",
        "       for (state, action) in results_list:\n",
        "            n_s_a[state, action] += 1.0\n",
        "            alpha = 1.0 / n_s_a[state, action]\n",
        "            # alpha=0.1\n",
        "            self.q_table[state, action] += alpha * (result_sum - self.q_table[state, action])\n",
        "\n",
        "Goal_vs_Hole_v0.update_q_table = update_q_table"
      ],
      "metadata": {
        "id": "C5aHyi16HoFO"
      },
      "execution_count": 22,
      "outputs": []
    },
    {
      "cell_type": "code",
      "source": [
        "# we can update exploit and exploration rate\n",
        "def update_epsilon(self, do_test=False):\n",
        "    if do_test:\n",
        "        self.epsilon = 0 # no exploration\n",
        "    else:\n",
        "        if self.epsilon >self.epsilon_min:\n",
        "           self.epsilon == self.epsilon_decay\n",
        "\n",
        "Goal_vs_Hole_v0.update_epsilon = update_epsilon"
      ],
      "metadata": {
        "id": "ajQVzAzotkLL"
      },
      "execution_count": 11,
      "outputs": []
    },
    {
      "cell_type": "code",
      "source": [
        "# print Q-Table\n",
        "def print_q_table(self):\n",
        "    \"\"\"UI to dump Q Table contents\"\"\"\n",
        "    print(\"Q-Table (Epsilon: %0.2f)\" % self.epsilon)\n",
        "    print(self.q_table)\n",
        "Goal_vs_Hole_v0.print_q_table = print_q_table"
      ],
      "metadata": {
        "id": "SWlsozBktl5d"
      },
      "execution_count": 23,
      "outputs": []
    },
    {
      "cell_type": "markdown",
      "source": [
        "## Main Loop of Monte Carlo"
      ],
      "metadata": {
        "id": "SAuCHITYtn3O"
      }
    },
    {
      "cell_type": "code",
      "source": [
        "## two Flags\n",
        "do_trainig= True\n",
        "do_test=False"
      ],
      "metadata": {
        "id": "sEGJoODbtp8n"
      },
      "execution_count": 24,
      "outputs": []
    },
    {
      "cell_type": "code",
      "source": [
        "# main loop of monte Carlo\n",
        "if do_trainig ==True:\n",
        "   wins = 0\n",
        "   maxwins=200\n",
        "   delay=0\n",
        "   episode_count=1000\n",
        "   # scores (max number of steps bet goal)-good indicater of learninig\n",
        "   scores=deque(maxlen=maxwins)\n",
        "   goal_vs_hole_v0_world=Goal_vs_Hole_v0()\n",
        "   step=1\n",
        "   exit_flag= False\n",
        "   global_reward = np.zeros(episode_count)\n",
        "   row=48\n",
        "   column=4\n",
        "   epsilon = 0.9\n",
        "   rList = []\n",
        "   Q = np.zeros([row, column])\n",
        "   n_s_a = np.zeros([row, column])\n",
        "  #  data['global_reward']=global_reward\n",
        "    # state, action, reward, next state iteration\n",
        "   cumulative_reward = []\n",
        "   for episode in range(episode_count):\n",
        "       state = goal_vs_hole_v0_world.reset()\n",
        "       done = False\n",
        "       rAll = 0\n",
        "       results_list = []\n",
        "       result_sum = 0.0\n",
        "       R=0\n",
        "       while not done:\n",
        "             action =  goal_vs_hole_v0_world.act()\n",
        "             next_state, reward, done =  goal_vs_hole_v0_world.step(action)\n",
        "             goal_vs_hole_v0_world.update_q_table(state, action, reward, next_state,result_sum,results_list)\n",
        "             R = reward + R\n",
        "             global_reward[episode] += reward\n",
        "             state = next_state\n",
        "             results_list.append((state, action))\n",
        "             result_sum += reward\n",
        "             rAll += reward\n",
        "\n",
        "            # if episode is done, perform housekeeping\n",
        "             if done:\n",
        "                rList.append(rAll)\n",
        "                if  goal_vs_hole_v0_world.is_in_win_state():\n",
        "                    wins += 1\n",
        "                    scores.append(step)\n",
        "                    if wins > maxwins:\n",
        "                        exit_flag = True\n",
        "                goal_vs_hole_v0_world.update_epsilon = update_epsilon\n",
        "                # Exploration-Exploitation is updated every episode\n",
        "\n",
        "                step = 1\n",
        "             else:\n",
        "                step += 1\n",
        "             if exit_flag==True:\n",
        "                break\n",
        "             if exit_flag==True:\n",
        "                break\n",
        "print(\"Saving world for future use...\")\n",
        "print(scores)\n",
        "goal_vs_hole_v0_world.print_q_table()"
      ],
      "metadata": {
        "colab": {
          "base_uri": "https://localhost:8080/"
        },
        "id": "BLc3FjOQtsgK",
        "outputId": "97b30891-0bc7-4e12-a984-28a19fbc6c87"
      },
      "execution_count": 29,
      "outputs": [
        {
          "output_type": "stream",
          "name": "stderr",
          "text": [
            "<ipython-input-9-a34d8869eaec>:11: DeprecationWarning: elementwise comparison failed; this will raise an error in the future.\n",
            "  if valid_actions_from_state[0]==[]:\n"
          ]
        },
        {
          "output_type": "stream",
          "name": "stdout",
          "text": [
            "Saving world for future use...\n",
            "deque([], maxlen=200)\n",
            "Q-Table (Epsilon: 0.10)\n",
            "[[ -16.1061698     0.            0.          -17.74592727]\n",
            " [ -16.46048891    0.          -14.13207163  -17.24218182]\n",
            " [ -15.91846523    0.          -13.77136827    0.        ]\n",
            " [   0.            0.          -14.02961276  -15.5       ]\n",
            " [   0.            0.            0.            0.        ]\n",
            " [   0.            0.            0.            0.        ]\n",
            " [   0.            0.            0.            0.        ]\n",
            " [   0.            0.            0.            0.        ]\n",
            " [ -20.48815592  -15.5241575     0.          -24.80601915]\n",
            " [   0.          -17.63197375  -18.09187781  -23.03410553]\n",
            " [   0.            0.            0.            0.        ]\n",
            " [   0.          -16.37288136    0.          -23.57142857]\n",
            " [   0.            0.            0.            0.        ]\n",
            " [   0.            0.            0.          -50.        ]\n",
            " [   0.            0.            0.            0.        ]\n",
            " [   0.            0.            0.            0.        ]\n",
            " [ -27.10774411  -21.34705882    0.          -30.75902566]\n",
            " [   0.          -22.1598579   -26.09032258  -26.29241877]\n",
            " [   0.            0.            0.            0.        ]\n",
            " [ -33.83333333  -20.97701149    0.          -31.        ]\n",
            " [ -39.70909091    0.          -28.84210526  -32.15238095]\n",
            " [ -38.36666667    0.          -36.97222222  -41.46296296]\n",
            " [ -89.27314815    0.          -38.75        -98.00555556]\n",
            " [   0.            0.          -91.85766423  -91.81538462]\n",
            " [ -32.70950788  -25.9249285     0.          -41.46331522]\n",
            " [   0.          -27.0138161   -26.6342155   -38.87799043]\n",
            " [   0.            0.            0.            0.        ]\n",
            " [ -57.73913043  -27.98709677    0.          -46.27011494]\n",
            " [ -51.53        -27.85        -37.37162162  -47.55737705]\n",
            " [ -39.68253968  -38.84848485  -43.21333333  -78.29588015]\n",
            " [-107.125       -91.2421875   -77.33482143 -105.68085106]\n",
            " [   0.          -99.42857143  -90.60294118 -123.5       ]\n",
            " [ -31.36288089  -37.86238015    0.          -42.20521327]\n",
            " [ -32.89166667  -31.69043671  -33.02548077  -40.01457726]\n",
            " [ -54.09322034    0.          -32.48316832  -53.68187919]\n",
            " [ -54.99418605  -49.52380952  -57.54302326  -51.91666667]\n",
            " [ -70.56387665  -43.68181818  -59.09126214  -36.06481481]\n",
            " [-106.98850575  -60.16129032  -78.41639344  -64.25179856]\n",
            " [-121.88709677 -101.6433121  -101.71641791  -90.21311475]\n",
            " [   0.          -95.08108108 -120.47916667 -123.        ]\n",
            " [ -44.91081081  -41.61547912    0.            0.        ]\n",
            " [ -37.54738155  -36.1979661   -46.15438951    0.        ]\n",
            " [ -49.04928131  -48.81424936  -39.34655172    0.        ]\n",
            " [ -65.06965174  -46.37037037  -46.73440285    0.        ]\n",
            " [ -67.24102564    0.          -47.85714286    0.        ]\n",
            " [ -91.17708333  -69.89189189  -54.30744337    0.        ]\n",
            " [ -57.82        -97.43046358  -65.68181818    0.        ]\n",
            " [   0.          -71.          -75.89090909    0.        ]]\n"
          ]
        }
      ]
    },
    {
      "cell_type": "markdown",
      "source": [
        "### printing output"
      ],
      "metadata": {
        "id": "riyCPaPjFDMl"
      }
    },
    {
      "cell_type": "code",
      "source": [
        "print('Cumulative to all Episodes = ',np.sum(global_reward)/episode_count)\n",
        "print('Maximum Cumulative Reward Through All episodes = ',np.max(global_reward))\n",
        "print('Minumum Cumulative Rewards Through All Episodes = ',np.min(global_reward))\n",
        "a=np.where(global_reward==np.max(global_reward))\n",
        "print('Maximum Rewards in Episde = ',a)"
      ],
      "metadata": {
        "colab": {
          "base_uri": "https://localhost:8080/"
        },
        "id": "EbFZbC4pWv-j",
        "outputId": "c0850a54-3841-4ad9-8f7c-e5d37bb94217"
      },
      "execution_count": 26,
      "outputs": [
        {
          "output_type": "stream",
          "name": "stdout",
          "text": [
            "Cumulative to all Episodes =  -110.95\n",
            "Maximum Cumulative Reward Through All episodes =  -18.0\n",
            "Minumum Cumulative Rewards Through All Episodes =  -336.0\n",
            "Maximum Rewards in Episde =  (array([228]),)\n"
          ]
        }
      ]
    },
    {
      "cell_type": "code",
      "source": [
        "a=1\n",
        "b=np.zeros([1000])\n",
        "for i in range(0,1000):\n",
        "\n",
        "    b[i]=global_reward[i]/a\n",
        "    a = a + 1\n",
        "plt.figure(1)\n",
        "plt.plot(np.arange(0,1000), global_reward[0:1000])\n",
        "font1 = {'family':'serif','color':'blue','size':20}\n",
        "font2 = {'family':'serif','color':'darkred','size':15}\n",
        "plt.title(\"Monte Carlo\", fontdict = font1)\n",
        "plt.xlabel(\"Eposides=1000, epsilon =0.1, gamma=0.9\", fontdict = font2)\n",
        "plt.ylabel(\"Cumulative Rewards\", fontdict = font2)\n",
        "plt.figure(2)\n",
        "plt.plot(np.arange(0,130),b[0:130], color='red', linewidth='3')\n",
        "plt.title(\"Monte Carlo \", fontdict = font1)\n",
        "plt.xlabel(\"Eposides\", fontdict = font2)\n",
        "plt.ylabel(\"Average Rewards\", fontdict = font2)\n",
        "plt.grid()"
      ],
      "metadata": {
        "colab": {
          "base_uri": "https://localhost:8080/",
          "height": 951
        },
        "id": "hCcv9Dhk-4f9",
        "outputId": "74fa36f0-b993-48cf-d739-4f2c285da286"
      },
      "execution_count": 30,
      "outputs": [
        {
          "output_type": "display_data",
          "data": {
            "text/plain": [
              "<Figure size 640x480 with 1 Axes>"
            ],
            "image/png": "[encoded data removed]"
          },
          "metadata": {}
        },
        {
          "output_type": "display_data",
          "data": {
            "text/plain": [
              "<Figure size 640x480 with 1 Axes>"
            ],
            "image/png": "[encoded data removed]"
          },
          "metadata": {}
        }
      ]
    }
  ]
}