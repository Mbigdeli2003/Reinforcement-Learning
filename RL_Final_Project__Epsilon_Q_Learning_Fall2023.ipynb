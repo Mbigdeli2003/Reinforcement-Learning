{
  "nbformat": 4,
  "nbformat_minor": 0,
  "metadata": {
    "colab": {
      "provenance": [],
      "mount_file_id": "1OrpszxlZYPEn0TTJs6JVwr5JPHTTUiPv",
      "authorship_tag": "ABX9TyM1Ctb3NsP2M0Y1eZO8xVoM",
      "include_colab_link": true
    },
    "kernelspec": {
      "name": "python3",
      "display_name": "Python 3"
    },
    "language_info": {
      "name": "python"
    }
  },
  "cells": [
    {
      "cell_type": "markdown",
      "metadata": {
        "id": "view-in-github",
        "colab_type": "text"
      },
      "source": [
        "<a href=\"https://colab.research.google.com/github/Mbigdeli2003/Reinforcement-Learning/blob/main/RL_Final_Project__Epsilon_Q_Learning_Fall2023.ipynb\" target=\"_parent\"><img src=\"https://colab.research.google.com/assets/colab-badge.svg\" alt=\"Open In Colab\"/></a>"
      ]
    },
    {
      "cell_type": "markdown",
      "source": [
        "# Reinforcement Learning Final Project Fall 2023-Q-Learning with epsilon for explore"
      ],
      "metadata": {
        "id": "_SeCHt2jdI6a"
      }
    },
    {
      "cell_type": "markdown",
      "source": [
        "### Importing Libraries"
      ],
      "metadata": {
        "id": "CbCy0lBBdkDS"
      }
    },
    {
      "cell_type": "code",
      "source": [
        "! pip install environ"
      ],
      "metadata": {
        "id": "QD9Z2PWhcL3k"
      },
      "execution_count": null,
      "outputs": []
    },
    {
      "cell_type": "code",
      "execution_count": 1,
      "metadata": {
        "id": "iOITQslTdBRj"
      },
      "outputs": [],
      "source": [
        "import numpy as np\n",
        "import pandas as pd\n",
        "import matplotlib.pyplot as plt\n",
        "import matplotlib\n",
        "import gym\n",
        "from collections import deque\n",
        "import numpy as np\n",
        "import argparse\n",
        "import os\n",
        "import time\n",
        "import seaborn as sns"
      ]
    },
    {
      "cell_type": "markdown",
      "source": [
        "### 6*8 Table\n",
        "### Goal Reward=0\n",
        "### each step Reward=-1\n",
        "### Hole Reward=-10\n"
      ],
      "metadata": {
        "id": "RDQs8-z-dHdb"
      }
    },
    {
      "cell_type": "code",
      "source": [
        "# Define Class\n",
        "class Goal_vs_Hole_v0():\n",
        "   pass"
      ],
      "metadata": {
        "id": "PgXsovIRqSu6"
      },
      "execution_count": 2,
      "outputs": []
    },
    {
      "cell_type": "markdown",
      "source": [
        "## Define Rewards"
      ],
      "metadata": {
        "id": "jlAQh0HQ0nRP"
      }
    },
    {
      "cell_type": "code",
      "source": [
        "def init_reward_table(self):\n",
        "    self.col=4\n",
        "    self.row=48\n",
        "    self.reward_table =-1*np.ones([self.row, self.col])\n",
        "\n",
        "# Holes\n",
        "    self.reward_table [9,2]=-100\n",
        "    self.reward_table [17,2]=-100\n",
        "    self.reward_table [25,2]=-100\n",
        "    self.reward_table [3,2]=-100\n",
        "    self.reward_table [11,0]=-100\n",
        "    self.reward_table [11,2]=-100\n",
        "    self.reward_table [13,0]=-100\n",
        "    self.reward_table [19,0]=-100\n",
        "    self.reward_table [27,0]=-100\n",
        "    self.reward_table [5,0]=-100\n",
        "    self.reward_table [2,1]=-100\n",
        "    self.reward_table [20,3]=-100\n",
        "    self.reward_table [34,3]=-100\n",
        "\n",
        "    self.reward_table [6,2]=7\n",
        "    for i in range(0,48):\n",
        "        for j in range(0,4):\n",
        "      ####Edges\n",
        "            if (j==0) and (i==0 or i==8 or i==16 or i==24 or i==32 or i==40):\n",
        "               self.reward_table[i,j]==[]\n",
        "\n",
        "            if (j==3) and (i==0 or i==1 or i==2 or i==3 or i==4 or i==5 or i==6 or i==7):\n",
        "               self.reward_table[i,j]==[]\n",
        "\n",
        "            if (j==2) and (i==23 or i==31 or i==39 or i==47):\n",
        "               self.reward_table[i,j]==[]\n",
        "\n",
        "            if (j==1) and (i==40 or i==41 or i==42 or i==43 or i==44 or i==45 or i==46 or i==47):\n",
        "              self.reward_table[i,j]==[]\n",
        "### Considering Walls in table\n",
        "\n",
        "    self.reward_table[13,2]==[]\n",
        "    self.reward_table[22,3]==[]\n",
        "    self.reward_table[23,3]==[]\n",
        "    self.reward_table[6,1]==[]\n",
        "\n",
        "###Walls\n",
        "    self.reward_table[14,0]==[]\n",
        "    self.reward_table[14,1]==[]\n",
        "    self.reward_table[14,2]==[]\n",
        "    self.reward_table[14,3]==[]\n",
        "\n",
        "    self.reward_table[15,0]==[]\n",
        "    self.reward_table[15,1]==[]\n",
        "    self.reward_table[15,2]==[]\n",
        "    self.reward_table[15,3]==[]\n",
        "\n",
        "\n",
        "\n",
        "Goal_vs_Hole_v0.init_reward_table =init_reward_table"
      ],
      "metadata": {
        "id": "yGZlkxMfsPbs"
      },
      "execution_count": 23,
      "outputs": []
    },
    {
      "cell_type": "markdown",
      "source": [
        "## Action Space"
      ],
      "metadata": {
        "id": "-IABOjB_1gg9"
      }
    },
    {
      "cell_type": "code",
      "source": [
        "\"\"\"\"\n",
        "Table\n",
        "0 -Left 1-Down 2-Right 3-Up\n",
        "𝑆0\t𝑆1\t𝑆2\t𝑆3\t𝑆4\t𝑆5\t𝑆6\t𝑆7\n",
        "𝑆8\t𝑆9\t𝑆10\t𝑆11\t𝑆12\t𝑆13\t𝑆14\t𝑆15\n",
        "𝑆16\t𝑆17\t𝑆18\t𝑆19\t𝑆20\t𝑆21\t𝑆22\t𝑆23\n",
        "𝑆24\t𝑆25\t𝑆26\t𝑆27\t𝑆28\t𝑆29\t𝑆30\t𝑆31\n",
        "𝑆32\t𝑆33\t𝑆34\t𝑆35\t𝑆36\t𝑆37\t𝑆38\t𝑆39\n",
        "𝑆40\t𝑆41\t𝑆42\t𝑆43\t𝑆44\t𝑆45\t𝑆46\t𝑆47\n",
        "\"\"\"\n",
        "def init_transition_table(self):\n",
        "    self.row=48\n",
        "    self.col=4\n",
        "    #self.action_space=np.arange(0,4,1)\n",
        "    #self.observation_space=np.arange(0,48,1)\n",
        "    #self.observation_terminal=[4,10,12,18,26]\n",
        "    #self.observation_terminal=[0,1,2,3,5,6,7,8,9,11,13,14,15,16,17,19,20,21,22,23,24,25,27,28,29,30,31,32,33,34,35,36,37,38,39,40,41,42,43,44,45,46,47]\n",
        "    self.transition_table = np.zeros([self.row,self.col], dtype=int)\n",
        "    # state 0\n",
        "    self.transition_table[0,0]=0\n",
        "    self.transition_table[0,1]=8\n",
        "    self.transition_table[0,2]=1\n",
        "    self.transition_table[0,3]=0\n",
        "\n",
        "    # State 1\n",
        "    self.transition_table[1,0]=0\n",
        "    self.transition_table[1,1]=9\n",
        "    self.transition_table[1,2]=2\n",
        "    self.transition_table[1,3]=1\n",
        "\n",
        "    #Satet 2\n",
        "    self.transition_table[2,0]=1\n",
        "    self.transition_table[2,1]=10\n",
        "    self.transition_table[2,2]=3\n",
        "    self.transition_table[2,3]=2\n",
        "\n",
        "    #Satet 3\n",
        "    self.transition_table[3,0]=2\n",
        "    self.transition_table[3,1]=11\n",
        "    self.transition_table[3,2]=4\n",
        "    self.transition_table[3,3]=3\n",
        "\n",
        "    #Satet 5\n",
        "    self.transition_table[5,0]=4\n",
        "    self.transition_table[5,1]=13\n",
        "    self.transition_table[5,2]=6\n",
        "    self.transition_table[5,3]=5\n",
        "\n",
        "    #Satet 6\n",
        "    self.transition_table[6,0]=5\n",
        "    self.transition_table[6,1]=6\n",
        "    self.transition_table[6,2]=7\n",
        "    self.transition_table[6,3]=6\n",
        "\n",
        "    #Satet 8\n",
        "    self.transition_table[8,0]=8\n",
        "    self.transition_table[8,1]=16\n",
        "    self.transition_table[8,2]=9\n",
        "    self.transition_table[8,3]=0\n",
        "\n",
        "    #state 9\n",
        "    self.transition_table[9,0]=8\n",
        "    self.transition_table[9,1]=17\n",
        "    self.transition_table[9,2]=10\n",
        "    self.transition_table[9,3]=1\n",
        "\n",
        "    #state 11\n",
        "    self.transition_table[11,0]=10\n",
        "    self.transition_table[11,1]=19\n",
        "    self.transition_table[11,2]=12\n",
        "    self.transition_table[11,3]=3\n",
        "\n",
        "    #state 13\n",
        "    self.transition_table[13,0]=12\n",
        "    self.transition_table[13,1]=21\n",
        "    self.transition_table[13,2]=13\n",
        "    self.transition_table[13,3]=5\n",
        "\n",
        "    #state 16\n",
        "    self.transition_table[16,0]=16\n",
        "    self.transition_table[16,1]=24\n",
        "    self.transition_table[16,2]=17\n",
        "    self.transition_table[16,3]=8\n",
        "\n",
        "    #state 17\n",
        "    self.transition_table[17,0]=16\n",
        "    self.transition_table[17,1]=25\n",
        "    self.transition_table[17,2]=18\n",
        "    self.transition_table[17,3]=9\n",
        "\n",
        "    #state 19\n",
        "    self.transition_table[19,0]=18\n",
        "    self.transition_table[19,1]=27\n",
        "    self.transition_table[19,2]=20\n",
        "    self.transition_table[19,3]=11\n",
        "\n",
        "    #state 20\n",
        "    self.transition_table[20,0]=19\n",
        "    self.transition_table[20,1]=28\n",
        "    self.transition_table[20,2]=21\n",
        "    self.transition_table[20,3]=12\n",
        "\n",
        "    #state 21\n",
        "    self.transition_table[21,0]=20\n",
        "    self.transition_table[21,1]=29\n",
        "    self.transition_table[21,2]=22\n",
        "    self.transition_table[21,3]=13\n",
        "\n",
        "    #state 22\n",
        "    self.transition_table[22,0]=21\n",
        "    self.transition_table[22,1]=30\n",
        "    self.transition_table[22,2]=23\n",
        "    self.transition_table[22,3]=22\n",
        "\n",
        "    #state 23\n",
        "    self.transition_table[23,0]=22\n",
        "    self.transition_table[23,1]=31\n",
        "    self.transition_table[23,2]=23\n",
        "    self.transition_table[23,3]=23\n",
        "\n",
        "    #state 24\n",
        "    self.transition_table[24,0]=24\n",
        "    self.transition_table[24,1]=32\n",
        "    self.transition_table[24,2]=25\n",
        "    self.transition_table[24,3]=16\n",
        "\n",
        "    #state 16\n",
        "    self.transition_table[25,0]=24\n",
        "    self.transition_table[25,1]=33\n",
        "    self.transition_table[25,2]=26\n",
        "    self.transition_table[25,3]=17\n",
        "\n",
        "    #state 27\n",
        "    self.transition_table[27,0]=26\n",
        "    self.transition_table[27,1]=35\n",
        "    self.transition_table[27,2]=28\n",
        "    self.transition_table[27,3]=19\n",
        "\n",
        "    #state 28\n",
        "    self.transition_table[28,0]=27\n",
        "    self.transition_table[28,1]=36\n",
        "    self.transition_table[28,2]=29\n",
        "    self.transition_table[28,3]=20\n",
        "\n",
        "    #state 29\n",
        "    self.transition_table[29,0]=28\n",
        "    self.transition_table[29,1]=37\n",
        "    self.transition_table[29,2]=30\n",
        "    self.transition_table[29,3]=21\n",
        "\n",
        "    #state 30\n",
        "    self.transition_table[30,0]=29\n",
        "    self.transition_table[30,1]=38\n",
        "    self.transition_table[30,2]=31\n",
        "    self.transition_table[30,3]=22\n",
        "\n",
        "    #state 31\n",
        "    self.transition_table[31,0]=30\n",
        "    self.transition_table[31,1]=39\n",
        "    self.transition_table[31,2]=31\n",
        "    self.transition_table[31,3]=23\n",
        "\n",
        "    #state 32\n",
        "    self.transition_table[32,0]=32\n",
        "    self.transition_table[32,1]=40\n",
        "    self.transition_table[32,2]=33\n",
        "    self.transition_table[32,3]=24\n",
        "\n",
        "    #state 33\n",
        "    self.transition_table[33,0]=32\n",
        "    self.transition_table[33,1]=41\n",
        "    self.transition_table[33,2]=34\n",
        "    self.transition_table[33,3]=25\n",
        "\n",
        "    #state 34\n",
        "    self.transition_table[34,0]=33\n",
        "    self.transition_table[34,1]=42\n",
        "    self.transition_table[34,2]=35\n",
        "    self.transition_table[34,3]=26\n",
        "\n",
        "    #state 35\n",
        "    self.transition_table[35,0]=34\n",
        "    self.transition_table[35,1]=42\n",
        "    self.transition_table[35,2]=36\n",
        "    self.transition_table[35,3]=27\n",
        "\n",
        "    #state 36\n",
        "    self.transition_table[36,0]=35\n",
        "    self.transition_table[36,1]=43\n",
        "    self.transition_table[36,2]=37\n",
        "    self.transition_table[36,3]=28\n",
        "\n",
        "    #state 37\n",
        "    self.transition_table[37,0]=36\n",
        "    self.transition_table[37,1]=45\n",
        "    self.transition_table[37,2]=38\n",
        "    self.transition_table[37,3]=29\n",
        "\n",
        "    #state 38\n",
        "    self.transition_table[38,0]=37\n",
        "    self.transition_table[38,1]=46\n",
        "    self.transition_table[38,2]=39\n",
        "    self.transition_table[38,3]=30\n",
        "\n",
        "    #state 39\n",
        "    self.transition_table[39,0]=38\n",
        "    self.transition_table[39,1]=47\n",
        "    self.transition_table[39,2]=39\n",
        "    self.transition_table[39,3]=31\n",
        "\n",
        "    #state 40\n",
        "    self.transition_table[40,0]=40\n",
        "    self.transition_table[40,1]=40\n",
        "    self.transition_table[40,2]=41\n",
        "    self.transition_table[40,3]=32\n",
        "\n",
        "    #state 41\n",
        "    self.transition_table[41,0]=40\n",
        "    self.transition_table[41,1]=41\n",
        "    self.transition_table[41,2]=42\n",
        "    self.transition_table[41,3]=33\n",
        "\n",
        "    #state 42\n",
        "    self.transition_table[42,0]=41\n",
        "    self.transition_table[42,1]=42\n",
        "    self.transition_table[42,2]=43\n",
        "    self.transition_table[42,3]=34\n",
        "\n",
        "    #state 43\n",
        "    self.transition_table[43,0]=42\n",
        "    self.transition_table[43,1]=43\n",
        "    self.transition_table[43,2]=44\n",
        "    self.transition_table[43,3]=35\n",
        "\n",
        "    #state 44\n",
        "    self.transition_table[44,0]=43\n",
        "    self.transition_table[44,1]=44\n",
        "    self.transition_table[44,2]=45\n",
        "    self.transition_table[44,3]=36\n",
        "\n",
        "    #state 45\n",
        "    self.transition_table[45,0]=44\n",
        "    self.transition_table[45,1]=45\n",
        "    self.transition_table[45,2]=46\n",
        "    self.transition_table[45,3]=37\n",
        "\n",
        "    #state 46\n",
        "    self.transition_table[46,0]=45\n",
        "    self.transition_table[46,1]=46\n",
        "    self.transition_table[46,2]=47\n",
        "    self.transition_table[46,3]=38\n",
        "\n",
        "    #state 47\n",
        "    self.transition_table[47,0]=46\n",
        "    self.transition_table[47,1]=47\n",
        "    self.transition_table[47,2]=47\n",
        "    self.transition_table[47,3]=39\n",
        "\n",
        "###Walls\n",
        "    self.transition_table[14,0]==[]\n",
        "    self.transition_table[14,1]==[]\n",
        "    self.transition_table[14,2]==[]\n",
        "    self.transition_table[14,3]==[]\n",
        "\n",
        "    self.transition_table[15,0]==[]\n",
        "    self.transition_table[15,1]==[]\n",
        "    self.transition_table[15,2]==[]\n",
        "    self.transition_table[15,3]==[]\n",
        "\n",
        " #Terminal States\n",
        "\n",
        "    for k in range(0,4,1):\n",
        "        self.transition_table[7,k]=7\n",
        "        self.transition_table[4,k]=4\n",
        "        self.transition_table[10,k]=10\n",
        "        self.transition_table[12,k]=12\n",
        "        self.transition_table[18,k]=18\n",
        "        self.transition_table[26,k]=26\n",
        "\n",
        "Goal_vs_Hole_v0.init_transition_table = init_transition_table\n"
      ],
      "metadata": {
        "id": "hkGG5JKJ1mG0"
      },
      "execution_count": 4,
      "outputs": []
    },
    {
      "cell_type": "markdown",
      "source": [
        "### Functions"
      ],
      "metadata": {
        "id": "YS6hrCIF0E1j"
      }
    },
    {
      "cell_type": "code",
      "source": [
        "## start of episode\n",
        "def reset(self,start_state=0):\n",
        "    self.state=start_state\n",
        "    return self.state\n",
        "\n",
        "Goal_vs_Hole_v0.reset = reset"
      ],
      "metadata": {
        "id": "javhuJPlm9oP"
      },
      "execution_count": 5,
      "outputs": []
    },
    {
      "cell_type": "code",
      "source": [
        "def __init__(self, start_state=0):\n",
        "  # 4 action\n",
        "  # 0-Left 1-Down 2-Right 3-Up\n",
        "    self.col=4\n",
        "\n",
        "  # states\n",
        "    self.row = 48\n",
        "\n",
        "  #setup the environment\n",
        "    self.q_table = np.zeros([self.row,self.col])\n",
        "    self.init_transition_table()\n",
        "    self.init_reward_table()\n",
        "\n",
        "  #discount Factor\n",
        "    self.gamma=0.9\n",
        "\n",
        "  #90% exploration, 10% precent exploration\n",
        "    self.epsilon=0.1\n",
        "\n",
        "  ##exploration decays by this factor every episode\n",
        "    self.epsion_decay=0.99 # since it has not been given in the problem\n",
        "  ## eplore 10% and exploit 90%\n",
        "    self.epsilon_min=0.1\n",
        "\n",
        "  #Reset the environemnt\n",
        "    self.reset(start_state)\n",
        "    self.is_explore=True\n",
        "\n",
        "Goal_vs_Hole_v0.__init__=__init__\n"
      ],
      "metadata": {
        "id": "BJwOqg_Snn0N",
        "colab": {
          "base_uri": "https://localhost:8080/"
        },
        "outputId": "66f64f11-bd2f-4223-e20a-181f4ae4ddc7"
      },
      "execution_count": 31,
      "outputs": [
        {
          "output_type": "stream",
          "name": "stderr",
          "text": [
            "/usr/local/lib/python3.10/dist-packages/ipykernel/ipkernel.py:283: DeprecationWarning: `should_run_async` will not call `transform_cell` automatically in the future. Please pass the result to `transformed_cell` argument and any exception that happen during thetransform in `preprocessing_exc_tuple` in IPython 7.17 and above.\n",
            "  and should_run_async(code)\n"
          ]
        }
      ]
    },
    {
      "cell_type": "code",
      "source": [
        "#Agent win when the goal is reached\n",
        "def is_in_win_state(self):\n",
        "    return self.state==7\n",
        "Goal_vs_Hole_v0.is_in_win_state = is_in_win_state"
      ],
      "metadata": {
        "id": "7AGfZRtBrdTx"
      },
      "execution_count": 18,
      "outputs": []
    },
    {
      "cell_type": "code",
      "source": [
        "# excute the action on the environment\n",
        "def step(self, action):\n",
        "  #determine the next_state given state and action\n",
        "    next_state=self.transition_table[self.state, action]\n",
        "  # done is true if next_state is Goal or Hole\n",
        "    done = (next_state==7) or (next_state==4) or (next_state==10) or (next_state==12) or (next_state==18) or (next_state==26)\n",
        "\n",
        "  #reward given the state and action (collect reward)\n",
        "    reward=self.reward_table[self.state, action]\n",
        "  # the environmennt is now in new state\n",
        "    self.state=next_state\n",
        "\n",
        "    return next_state, reward, done\n",
        "\n",
        "Goal_vs_Hole_v0.step = step"
      ],
      "metadata": {
        "id": "UfigZ-t2sWSp"
      },
      "execution_count": 12,
      "outputs": []
    },
    {
      "cell_type": "code",
      "source": [
        "# determine the next Action\n",
        "def act(self):\n",
        "  #-Left 1-Down 2-Right #-Up\n",
        "    if np.random.rand() <=  self.epsilon:\n",
        "  #explore - do random actions\n",
        "       self.is_explore = True\n",
        "  #find valid transitions from current state\n",
        "    valid_actions_from_state = np.where(self.transition_table[self.state,:]!= self.state)\n",
        "  #return np.random.choice\n",
        "    #return np.random.choice([0,action])\n",
        "    if valid_actions_from_state[0]==[]:\n",
        "       return np.random.choice(np.arange(0,4,1))\n",
        "    if valid_actions_from_state[0]!=[]:\n",
        "       return np.random.choice(valid_actions_from_state[0])\n",
        "  # otherwise, action is from exploitation\n",
        "    self.is_explore = False\n",
        "    return np.argmax(self.q_table[self.state])\n",
        "\n",
        "Goal_vs_Hole_v0.act = act"
      ],
      "metadata": {
        "id": "FAeuXa6TuQJ-"
      },
      "execution_count": 11,
      "outputs": []
    },
    {
      "cell_type": "markdown",
      "source": [
        "### Q-Learning Update"
      ],
      "metadata": {
        "id": "HtW79zivXd2z"
      }
    },
    {
      "cell_type": "code",
      "source": [
        "# Q-learning - Update Q Table using Q(s,a)\n",
        "def update_q_table(self,state,action,reward, next_state):\n",
        "    #Q(s,a)= reward + gamma Q(s2,a2)\n",
        "    Alfa=0.001\n",
        "    Alfa+=Alfa\n",
        "    if Alfa==1:\n",
        "        Alfa=0.9999\n",
        "    q_values=self.q_table[state, action]+Alfa*(reward+self.gamma*np.max(self.q_table[next_state,:])-self.q_table[state, action])\n",
        "    # q_value=Alfa*(reward+self.gamma*np.max(self.q_table[next_state,:]))\n",
        "    self.q_table[state, action]= q_values\n",
        "\n",
        "Goal_vs_Hole_v0.update_q_table = update_q_table"
      ],
      "metadata": {
        "id": "UJXkM_nPyAWU"
      },
      "execution_count": 27,
      "outputs": []
    },
    {
      "cell_type": "code",
      "source": [
        "# we can update exploit and exploration rate\n",
        "def update_epsilon(self, do_test=False):\n",
        "    if do_test:\n",
        "        self.epsilon = 0 # no exploration\n",
        "    else:\n",
        "        if self.epsilon >self.epsilon_min:\n",
        "           self.epsilon == self.epsilon_decay\n",
        "\n",
        "Goal_vs_Hole_v0.update_epsilon = update_epsilon"
      ],
      "metadata": {
        "id": "X4U3rGx0zlNq"
      },
      "execution_count": 14,
      "outputs": []
    },
    {
      "cell_type": "markdown",
      "source": [
        "### priniting"
      ],
      "metadata": {
        "id": "UfISYa3l0i62"
      }
    },
    {
      "cell_type": "code",
      "source": [
        "# print Q-Table\n",
        "def print_q_table(self):\n",
        "    \"\"\"UI to dump Q Table contents\"\"\"\n",
        "    print(\"Q-Table (Epsilon: %0.2f)\" % self.epsilon)\n",
        "    print(self.q_table)\n",
        "    Q_table=self.q_table\n",
        "    return Q_table\n",
        "Goal_vs_Hole_v0.print_q_table = print_q_table"
      ],
      "metadata": {
        "id": "cdX5NkvU_AbF"
      },
      "execution_count": 15,
      "outputs": []
    },
    {
      "cell_type": "markdown",
      "source": [
        "## Main Loop of Q-Learnin"
      ],
      "metadata": {
        "id": "d1MQKTbnC-uq"
      }
    },
    {
      "cell_type": "code",
      "source": [
        "## two Flags\n",
        "do_trainig= True\n",
        "do_test=False"
      ],
      "metadata": {
        "id": "ELZwTKUVrBgZ"
      },
      "execution_count": 16,
      "outputs": []
    },
    {
      "cell_type": "code",
      "source": [
        "# main loop of Q-Learning\n",
        "if do_trainig ==True:\n",
        "   wins = 0\n",
        "   maxwins=200\n",
        "   delay=0\n",
        "   episode_count=1000\n",
        "   # scores (max number of steps bet goal)-good indicater of learninig\n",
        "   scores=deque(maxlen=maxwins)\n",
        "   goal_vs_hole_v0_world=Goal_vs_Hole_v0()\n",
        "   step=1\n",
        "   exit_flag= False\n",
        "   global_reward = np.zeros(episode_count)\n",
        "  #  data['global_reward']=global_reward\n",
        "    # state, action, reward, next state iteration\n",
        "   cumulative_reward = []\n",
        "   for episode in range(episode_count):\n",
        "       state = goal_vs_hole_v0_world.reset()\n",
        "       done = False\n",
        "       R = 0\n",
        "       while not done:\n",
        "             action =  goal_vs_hole_v0_world.act()\n",
        "             next_state, reward, done =  goal_vs_hole_v0_world.step(action)\n",
        "             goal_vs_hole_v0_world.update_q_table(state, action, reward, next_state)\n",
        "            #  print(state)\n",
        "            #  rint(next_state)\n",
        "             R = reward + R\n",
        "             global_reward[episode] += reward\n",
        "             state = next_state\n",
        "            # if episode is done, perform housekeeping\n",
        "             if done:\n",
        "                cumulative_reward.append(R)\n",
        "                if  goal_vs_hole_v0_world.is_in_win_state():\n",
        "                    wins += 1\n",
        "                    scores.append(step)\n",
        "                    if wins > maxwins:\n",
        "                        exit_flag = True\n",
        "                goal_vs_hole_v0_world.update_epsilon = update_epsilon\n",
        "                # Exploration-Exploitation is updated every episode\n",
        "\n",
        "                step = 1\n",
        "             else:\n",
        "                step += 1\n",
        "             if exit_flag==True:\n",
        "               break\n",
        "             if exit_flag==True:\n",
        "               break\n",
        "print(\"Saving world for future use...\")\n",
        "print(scores)\n",
        "Q_Table=goal_vs_hole_v0_world.print_q_table()\n",
        "Y=np.round(Q_Table,2)\n",
        "df=pd.DataFrame(Y, columns=['Left', 'Down', 'Right', 'Up'])"
      ],
      "metadata": {
        "colab": {
          "base_uri": "https://localhost:8080/"
        },
        "id": "JrmcJCCRDC_H",
        "outputId": "712dc4a0-edd3-450c-df8e-0060c18f9e0a"
      },
      "execution_count": 32,
      "outputs": [
        {
          "output_type": "stream",
          "name": "stderr",
          "text": [
            "<ipython-input-11-762d72a7febb>:11: DeprecationWarning: elementwise comparison failed; this will raise an error in the future.\n",
            "  if valid_actions_from_state[0]==[]:\n"
          ]
        },
        {
          "output_type": "stream",
          "name": "stdout",
          "text": [
            "Saving world for future use...\n",
            "deque([], maxlen=200)\n",
            "Q-Table (Epsilon: 0.10)\n",
            "[[ 0.00000000e+00 -8.53381391e-01 -8.58570880e-01  0.00000000e+00]\n",
            " [-6.20526037e-01 -7.61269586e-01 -6.44786187e-01  0.00000000e+00]\n",
            " [-3.27260118e-01 -3.21851181e+01 -3.45853905e-01  0.00000000e+00]\n",
            " [-1.59849496e-01 -1.09218929e-01 -1.47992725e+01  0.00000000e+00]\n",
            " [ 0.00000000e+00  0.00000000e+00  0.00000000e+00  0.00000000e+00]\n",
            " [-2.00000000e-01 -2.00000000e-03 -2.00000000e-03  0.00000000e+00]\n",
            " [-2.00000000e-03  0.00000000e+00  0.00000000e+00  0.00000000e+00]\n",
            " [ 0.00000000e+00  0.00000000e+00  0.00000000e+00  0.00000000e+00]\n",
            " [ 0.00000000e+00 -6.73432787e-01 -8.02500853e-01 -5.95419765e-01]\n",
            " [-4.17566767e-01 -5.39037000e-01 -4.33664578e+01 -4.55892702e-01]\n",
            " [ 0.00000000e+00  0.00000000e+00  0.00000000e+00  0.00000000e+00]\n",
            " [-2.95836183e+00 -3.35799631e-02 -3.34614021e+00 -2.37377521e-02]\n",
            " [ 0.00000000e+00  0.00000000e+00  0.00000000e+00  0.00000000e+00]\n",
            " [-1.39162794e+00 -1.00532119e-02  0.00000000e+00 -3.99600000e-03]\n",
            " [ 0.00000000e+00  0.00000000e+00  0.00000000e+00  0.00000000e+00]\n",
            " [ 0.00000000e+00  0.00000000e+00  0.00000000e+00  0.00000000e+00]\n",
            " [ 0.00000000e+00 -4.83490130e-01 -5.58394714e-01 -4.49317464e-01]\n",
            " [-3.40594466e-01 -3.45660561e-01 -3.10902492e+01 -3.57042281e-01]\n",
            " [ 0.00000000e+00  0.00000000e+00  0.00000000e+00  0.00000000e+00]\n",
            " [-1.78566700e+00 -2.40118314e-02 -1.19653180e-02 -8.06527929e-03]\n",
            " [-4.01037626e-03 -1.40735322e-02 -2.38629572e-02 -2.17813147e+00]\n",
            " [-1.59386499e-02 -1.60952973e-02 -2.37377521e-02 -2.56902766e-02]\n",
            " [-2.18887259e-02 -3.80096183e-02 -5.07205629e-02  0.00000000e+00]\n",
            " [-3.53944793e-02 -5.26191218e-02  0.00000000e+00  0.00000000e+00]\n",
            " [ 0.00000000e+00 -3.56247271e-01 -3.44669934e-01 -3.09521535e-01]\n",
            " [-2.07238064e-01 -2.37008493e-01 -2.13561159e+01 -2.53607849e-01]\n",
            " [ 0.00000000e+00  0.00000000e+00  0.00000000e+00  0.00000000e+00]\n",
            " [-3.15244510e+00 -3.61867735e-02 -2.98791109e-02 -2.38418569e-02]\n",
            " [-2.98967304e-02 -2.99861562e-02 -2.58863709e-02 -3.54693336e-02]\n",
            " [-2.98544564e-02 -2.99329514e-02 -3.58986558e-02 -2.58367920e-02]\n",
            " [-4.33051824e-02 -5.17193969e-02 -5.64048558e-02 -5.07205629e-02]\n",
            " [-5.75254191e-02 -5.07205629e-02  0.00000000e+00 -3.73236904e-02]\n",
            " [ 0.00000000e+00 -2.65311303e-01 -3.01813525e-01 -2.53449780e-01]\n",
            " [-2.00864131e-01 -2.00864131e-01 -2.18803928e-01 -2.06618404e-01]\n",
            " [-1.20771738e-01 -9.16233087e-02 -9.68625924e-02 -1.13186129e+01]\n",
            " [-6.44232193e-02 -3.92490430e-02 -5.91349706e-02 -6.65787781e-02]\n",
            " [-3.42569287e-02 -4.11705449e-02 -3.57933837e-02 -4.74873656e-02]\n",
            " [-2.59892872e-02 -3.92490430e-02 -4.95690691e-02 -3.56331167e-02]\n",
            " [-5.11771356e-02 -5.07205629e-02 -3.92490430e-02 -7.24984595e-02]\n",
            " [-5.92941056e-02 -4.88181993e-02  0.00000000e+00 -3.53944793e-02]\n",
            " [ 0.00000000e+00  0.00000000e+00 -2.11985129e-01 -2.30690831e-01]\n",
            " [-1.74851787e-01  0.00000000e+00 -1.63206738e-01 -2.02657418e-01]\n",
            " [-1.07843892e-01  0.00000000e+00 -1.14959757e-01 -1.30385479e-01]\n",
            " [-5.45138835e-02  0.00000000e+00 -8.24847839e-02 -6.11578003e-02]\n",
            " [-3.92490430e-02  0.00000000e+00 -3.73236904e-02 -4.35822422e-02]\n",
            " [-3.53944793e-02  0.00000000e+00 -4.50020274e-02 -3.38703955e-02]\n",
            " [-3.73236904e-02  0.00000000e+00 -6.20551110e-02 -5.54886859e-02]\n",
            " [-5.82920460e-02  0.00000000e+00  0.00000000e+00 -5.26191218e-02]]\n"
          ]
        }
      ]
    },
    {
      "cell_type": "markdown",
      "source": [
        "### printing output"
      ],
      "metadata": {
        "id": "Yo4R9DkjFeeO"
      }
    },
    {
      "cell_type": "code",
      "source": [
        "print('Cumulative to all Episodes = ',np.sum(cumulative_reward)/episode_count)\n",
        "a=np.where(np.array(cumulative_reward)==np.max(np.array(cumulative_reward)))\n",
        "print('Maximum Rewards in Episde = ',a)\n",
        "print('Minumim Cumulative Reward through All episodes = ',np.min(np.array(cumulative_reward)))\n",
        "print('Maximum Cumulative Rewards Through All Episodes = ',np.max(global_reward))"
      ],
      "metadata": {
        "colab": {
          "base_uri": "https://localhost:8080/"
        },
        "id": "jNGd9V4tPet1",
        "outputId": "bab8c0f1-1ad3-44b8-e4c1-5781f5dbaf95"
      },
      "execution_count": 29,
      "outputs": [
        {
          "output_type": "stream",
          "name": "stdout",
          "text": [
            "Cumulative to all Episodes =  -111.772\n",
            "Maximum Rewards in Episde =  (array([548]),)\n",
            "Minumim Cumulative Reward through All episodes =  -249.0\n",
            "Maximum Cumulative Rewards Through All Episodes =  -45.0\n"
          ]
        }
      ]
    },
    {
      "cell_type": "markdown",
      "source": [
        "## Plotting"
      ],
      "metadata": {
        "id": "CAV3IlfDFoZM"
      }
    },
    {
      "cell_type": "code",
      "source": [
        "a=1\n",
        "b=np.zeros([1000])\n",
        "for i in range(0,1000):\n",
        "\n",
        "    b[i]=global_reward[i]/a\n",
        "    a = a + 1\n",
        "plt.figure(1)\n",
        "plt.plot(np.arange(0,1000), global_reward[0:1000])\n",
        "font1 = {'family':'serif','color':'blue','size':20}\n",
        "font2 = {'family':'serif','color':'darkred','size':15}\n",
        "plt.title(\"Q-Learning\", fontdict = font1)\n",
        "plt.xlabel(\"Eposides=1000, epsilon =0.1, gamma=0.9\", fontdict = font2)\n",
        "plt.ylabel(\"Cumulative Rewards\", fontdict = font2)\n",
        "plt.figure(2)\n",
        "plt.plot(np.arange(0,130),b[0:130], color='red', linewidth='3')\n",
        "plt.title(\"Q-Learning \", fontdict = font1)\n",
        "plt.xlabel(\"Eposides\", fontdict = font2)\n",
        "plt.ylabel(\"Average Rewards\", fontdict = font2)\n",
        "plt.grid()"
      ],
      "metadata": {
        "colab": {
          "base_uri": "https://localhost:8080/",
          "height": 951
        },
        "id": "2U_0RfejFFEa",
        "outputId": "6395d56d-2a89-4005-e795-eb4df3e47c4a"
      },
      "execution_count": 33,
      "outputs": [
        {
          "output_type": "display_data",
          "data": {
            "text/plain": [
              "<Figure size 640x480 with 1 Axes>"
            ],
            "image/png": "[encoded data removed]"
          },
          "metadata": {}
        },
        {
          "output_type": "display_data",
          "data": {
            "text/plain": [
              "<Figure size 640x480 with 1 Axes>"
            ],
            "image/png": "[encoded data removed]"
          },
          "metadata": {}
        }
      ]
    },
    {
      "cell_type": "code",
      "source": [],
      "metadata": {
        "id": "fG2Pq5zXGk8t"
      },
      "execution_count": null,
      "outputs": []
    }
  ]
}