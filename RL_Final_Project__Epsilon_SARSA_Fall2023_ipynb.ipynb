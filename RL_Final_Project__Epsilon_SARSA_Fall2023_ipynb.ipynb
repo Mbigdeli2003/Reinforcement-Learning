{
  "nbformat": 4,
  "nbformat_minor": 0,
  "metadata": {
    "colab": {
      "provenance": [],
      "authorship_tag": "ABX9TyMcSj2MgJOj0MIQ8R5ckqOj",
      "include_colab_link": true
    },
    "kernelspec": {
      "name": "python3",
      "display_name": "Python 3"
    },
    "language_info": {
      "name": "python"
    }
  },
  "cells": [
    {
      "cell_type": "markdown",
      "metadata": {
        "id": "view-in-github",
        "colab_type": "text"
      },
      "source": [
        "<a href=\"https://colab.research.google.com/github/Mbigdeli2003/Reinforcement-Learning/blob/main/RL_Final_Project__Epsilon_SARSA_Fall2023_ipynb.ipynb\" target=\"_parent\"><img src=\"https://colab.research.google.com/assets/colab-badge.svg\" alt=\"Open In Colab\"/></a>"
      ]
    },
    {
      "cell_type": "markdown",
      "source": [
        "### Importing Libraries"
      ],
      "metadata": {
        "id": "_dBaN1pZLEos"
      }
    },
    {
      "cell_type": "markdown",
      "source": [
        "# Reinforcement Learning Final Project Fall 2023- SARSA with epsilon for explore"
      ],
      "metadata": {
        "id": "AOPvfGRzbbNK"
      }
    },
    {
      "cell_type": "code",
      "execution_count": 115,
      "metadata": {
        "id": "I7D0Z7GcK60Y"
      },
      "outputs": [],
      "source": [
        "import numpy as np\n",
        "import pandas as pd\n",
        "import matplotlib.pyplot as plt\n",
        "import matplotlib\n",
        "import gym\n",
        "from collections import deque\n",
        "import numpy as np\n",
        "import argparse\n",
        "import os\n",
        "import time\n",
        "import sys"
      ]
    },
    {
      "cell_type": "markdown",
      "source": [
        "### 6*8 Table\n",
        "### Goal Reward=0\n",
        "### each step Reward=-1\n",
        "### Hole Reward=-10\n"
      ],
      "metadata": {
        "id": "1XgnxEM5LI3P"
      }
    },
    {
      "cell_type": "code",
      "source": [
        "# Define Class\n",
        "class Goal_vs_Hole_v0():\n",
        "   pass"
      ],
      "metadata": {
        "id": "6zruXoFJXCag"
      },
      "execution_count": 116,
      "outputs": []
    },
    {
      "cell_type": "markdown",
      "source": [
        "## Define Rewards"
      ],
      "metadata": {
        "id": "96rM-4U_XFwZ"
      }
    },
    {
      "cell_type": "code",
      "source": [
        "def init_reward_table(self):\n",
        "    self.col=4\n",
        "    self.row=48\n",
        "    self.reward_table =-1*np.ones([self.row, self.col])\n",
        "\n",
        "# Holes\n",
        "    self.reward_table [9,2]=-100\n",
        "    self.reward_table [17,2]=-100\n",
        "    self.reward_table [25,2]=-100\n",
        "    self.reward_table [3,2]=-100\n",
        "    self.reward_table [11,0]=-100\n",
        "    self.reward_table [11,2]=-100\n",
        "    self.reward_table [13,0]=-100\n",
        "    self.reward_table [19,0]=-100\n",
        "    self.reward_table [27,0]=-100\n",
        "    self.reward_table [5,0]=-100\n",
        "    self.reward_table [2,1]=-100\n",
        "    self.reward_table [20,3]=-100\n",
        "    self.reward_table [34,3]=-100\n",
        "\n",
        "    self.reward_table [6,2]=0\n",
        "    for i in range(0,48):\n",
        "        for j in range(0,4):\n",
        "      ####Edges\n",
        "            if (j==0) and (i==0 or i==8 or i==16 or i==24 or i==32 or i==40):\n",
        "               self.reward_table[i,j]==[]\n",
        "\n",
        "            if (j==3) and (i==0 or i==1 or i==2 or i==3 or i==4 or i==5 or i==6 or i==7):\n",
        "               self.reward_table[i,j]==[]\n",
        "\n",
        "            if (j==2) and (i==23 or i==31 or i==39 or i==47):\n",
        "               self.reward_table[i,j]==[]\n",
        "\n",
        "            if (j==1) and (i==40 or i==41 or i==42 or i==43 or i==44 or i==45 or i==46 or i==47):\n",
        "              self.reward_table[i,j]==[]\n",
        "### Considering Walls in table\n",
        "\n",
        "    self.reward_table[13,2]==[]\n",
        "    self.reward_table[22,3]==[]\n",
        "    self.reward_table[23,3]==[]\n",
        "    self.reward_table[6,1]==[]\n",
        "\n",
        "###Walls\n",
        "    self.reward_table[14,0]==[]\n",
        "    self.reward_table[14,1]==[]\n",
        "    self.reward_table[14,2]==[]\n",
        "    self.reward_table[14,3]==[]\n",
        "\n",
        "    self.reward_table[15,0]==[]\n",
        "    self.reward_table[15,1]==[]\n",
        "    self.reward_table[15,2]==[]\n",
        "    self.reward_table[15,3]==[]\n",
        "\n",
        "\n",
        "\n",
        "Goal_vs_Hole_v0.init_reward_table =init_reward_table"
      ],
      "metadata": {
        "id": "xJsfROe4XFFG"
      },
      "execution_count": 141,
      "outputs": []
    },
    {
      "cell_type": "markdown",
      "source": [
        "## Action Space"
      ],
      "metadata": {
        "id": "wEt2bDj8XL8n"
      }
    },
    {
      "cell_type": "code",
      "source": [
        "\"\"\"\"\n",
        "Table\n",
        "0 -Left 1-Down 2-Right 3-Up\n",
        "𝑆0\t𝑆1\t𝑆2\t𝑆3\t𝑆4\t𝑆5\t𝑆6\t𝑆7\n",
        "𝑆8\t𝑆9\t𝑆10\t𝑆11\t𝑆12\t𝑆13\t𝑆14\t𝑆15\n",
        "𝑆16\t𝑆17\t𝑆18\t𝑆19\t𝑆20\t𝑆21\t𝑆22\t𝑆23\n",
        "𝑆24\t𝑆25\t𝑆26\t𝑆27\t𝑆28\t𝑆29\t𝑆30\t𝑆31\n",
        "𝑆32\t𝑆33\t𝑆34\t𝑆35\t𝑆36\t𝑆37\t𝑆38\t𝑆39\n",
        "𝑆40\t𝑆41\t𝑆42\t𝑆43\t𝑆44\t𝑆45\t𝑆46\t𝑆47\n",
        "\"\"\"\n",
        "def init_transition_table(self):\n",
        "    self.row=48\n",
        "    self.col=4\n",
        "    #self.action_space=np.arange(0,4,1)\n",
        "    #self.observation_space=np.arange(0,48,1)\n",
        "    #self.observation_terminal=[4,10,12,18,26]\n",
        "    #self.observation_terminal=[0,1,2,3,5,6,7,8,9,11,13,14,15,16,17,19,20,21,22,23,24,25,27,28,29,30,31,32,33,34,35,36,37,38,39,40,41,42,43,44,45,46,47]\n",
        "    self.transition_table = np.zeros([self.row,self.col], dtype=int)\n",
        "    # state 0\n",
        "    self.transition_table[0,0]=0\n",
        "    self.transition_table[0,1]=8\n",
        "    self.transition_table[0,2]=1\n",
        "    self.transition_table[0,3]=0\n",
        "\n",
        "    # State 1\n",
        "    self.transition_table[1,0]=0\n",
        "    self.transition_table[1,1]=9\n",
        "    self.transition_table[1,2]=2\n",
        "    self.transition_table[1,3]=1\n",
        "\n",
        "    #Satet 2\n",
        "    self.transition_table[2,0]=1\n",
        "    self.transition_table[2,1]=10\n",
        "    self.transition_table[2,2]=3\n",
        "    self.transition_table[2,3]=2\n",
        "\n",
        "    #Satet 3\n",
        "    self.transition_table[3,0]=2\n",
        "    self.transition_table[3,1]=11\n",
        "    self.transition_table[3,2]=4\n",
        "    self.transition_table[3,3]=3\n",
        "\n",
        "    #Satet 5\n",
        "    self.transition_table[5,0]=4\n",
        "    self.transition_table[5,1]=13\n",
        "    self.transition_table[5,2]=6\n",
        "    self.transition_table[5,3]=5\n",
        "\n",
        "    #Satet 6\n",
        "    self.transition_table[6,0]=5\n",
        "    self.transition_table[6,1]=6\n",
        "    self.transition_table[6,2]=7\n",
        "    self.transition_table[6,3]=6\n",
        "\n",
        "    #Satet 8\n",
        "    self.transition_table[8,0]=8\n",
        "    self.transition_table[8,1]=16\n",
        "    self.transition_table[8,2]=9\n",
        "    self.transition_table[8,3]=0\n",
        "\n",
        "    #state 9\n",
        "    self.transition_table[9,0]=8\n",
        "    self.transition_table[9,1]=17\n",
        "    self.transition_table[9,2]=10\n",
        "    self.transition_table[9,3]=1\n",
        "\n",
        "    #state 11\n",
        "    self.transition_table[11,0]=10\n",
        "    self.transition_table[11,1]=19\n",
        "    self.transition_table[11,2]=12\n",
        "    self.transition_table[11,3]=3\n",
        "\n",
        "    #state 13\n",
        "    self.transition_table[13,0]=12\n",
        "    self.transition_table[13,1]=21\n",
        "    self.transition_table[13,2]=13\n",
        "    self.transition_table[13,3]=5\n",
        "\n",
        "    #state 16\n",
        "    self.transition_table[16,0]=16\n",
        "    self.transition_table[16,1]=24\n",
        "    self.transition_table[16,2]=17\n",
        "    self.transition_table[16,3]=8\n",
        "\n",
        "    #state 17\n",
        "    self.transition_table[17,0]=16\n",
        "    self.transition_table[17,1]=25\n",
        "    self.transition_table[17,2]=18\n",
        "    self.transition_table[17,3]=9\n",
        "\n",
        "    #state 19\n",
        "    self.transition_table[19,0]=18\n",
        "    self.transition_table[19,1]=27\n",
        "    self.transition_table[19,2]=20\n",
        "    self.transition_table[19,3]=11\n",
        "\n",
        "    #state 20\n",
        "    self.transition_table[20,0]=19\n",
        "    self.transition_table[20,1]=28\n",
        "    self.transition_table[20,2]=21\n",
        "    self.transition_table[20,3]=12\n",
        "\n",
        "    #state 21\n",
        "    self.transition_table[21,0]=20\n",
        "    self.transition_table[21,1]=29\n",
        "    self.transition_table[21,2]=22\n",
        "    self.transition_table[21,3]=13\n",
        "\n",
        "    #state 22\n",
        "    self.transition_table[22,0]=21\n",
        "    self.transition_table[22,1]=30\n",
        "    self.transition_table[22,2]=23\n",
        "    self.transition_table[22,3]=22\n",
        "\n",
        "    #state 23\n",
        "    self.transition_table[23,0]=22\n",
        "    self.transition_table[23,1]=31\n",
        "    self.transition_table[23,2]=23\n",
        "    self.transition_table[23,3]=23\n",
        "\n",
        "    #state 24\n",
        "    self.transition_table[24,0]=24\n",
        "    self.transition_table[24,1]=32\n",
        "    self.transition_table[24,2]=25\n",
        "    self.transition_table[24,3]=16\n",
        "\n",
        "    #state 16\n",
        "    self.transition_table[25,0]=24\n",
        "    self.transition_table[25,1]=33\n",
        "    self.transition_table[25,2]=26\n",
        "    self.transition_table[25,3]=17\n",
        "\n",
        "    #state 27\n",
        "    self.transition_table[27,0]=26\n",
        "    self.transition_table[27,1]=35\n",
        "    self.transition_table[27,2]=28\n",
        "    self.transition_table[27,3]=19\n",
        "\n",
        "    #state 28\n",
        "    self.transition_table[28,0]=27\n",
        "    self.transition_table[28,1]=36\n",
        "    self.transition_table[28,2]=29\n",
        "    self.transition_table[28,3]=20\n",
        "\n",
        "    #state 29\n",
        "    self.transition_table[29,0]=28\n",
        "    self.transition_table[29,1]=37\n",
        "    self.transition_table[29,2]=30\n",
        "    self.transition_table[29,3]=21\n",
        "\n",
        "    #state 30\n",
        "    self.transition_table[30,0]=29\n",
        "    self.transition_table[30,1]=38\n",
        "    self.transition_table[30,2]=31\n",
        "    self.transition_table[30,3]=22\n",
        "\n",
        "    #state 31\n",
        "    self.transition_table[31,0]=30\n",
        "    self.transition_table[31,1]=39\n",
        "    self.transition_table[31,2]=31\n",
        "    self.transition_table[31,3]=23\n",
        "\n",
        "    #state 32\n",
        "    self.transition_table[32,0]=32\n",
        "    self.transition_table[32,1]=40\n",
        "    self.transition_table[32,2]=33\n",
        "    self.transition_table[32,3]=24\n",
        "\n",
        "    #state 33\n",
        "    self.transition_table[33,0]=32\n",
        "    self.transition_table[33,1]=41\n",
        "    self.transition_table[33,2]=34\n",
        "    self.transition_table[33,3]=25\n",
        "\n",
        "    #state 34\n",
        "    self.transition_table[34,0]=33\n",
        "    self.transition_table[34,1]=42\n",
        "    self.transition_table[34,2]=35\n",
        "    self.transition_table[34,3]=26\n",
        "\n",
        "    #state 35\n",
        "    self.transition_table[35,0]=34\n",
        "    self.transition_table[35,1]=42\n",
        "    self.transition_table[35,2]=36\n",
        "    self.transition_table[35,3]=27\n",
        "\n",
        "    #state 36\n",
        "    self.transition_table[36,0]=35\n",
        "    self.transition_table[36,1]=43\n",
        "    self.transition_table[36,2]=37\n",
        "    self.transition_table[36,3]=28\n",
        "\n",
        "    #state 37\n",
        "    self.transition_table[37,0]=36\n",
        "    self.transition_table[37,1]=45\n",
        "    self.transition_table[37,2]=38\n",
        "    self.transition_table[37,3]=29\n",
        "\n",
        "    #state 38\n",
        "    self.transition_table[38,0]=37\n",
        "    self.transition_table[38,1]=46\n",
        "    self.transition_table[38,2]=39\n",
        "    self.transition_table[38,3]=30\n",
        "\n",
        "    #state 39\n",
        "    self.transition_table[39,0]=38\n",
        "    self.transition_table[39,1]=47\n",
        "    self.transition_table[39,2]=39\n",
        "    self.transition_table[39,3]=31\n",
        "\n",
        "    #state 40\n",
        "    self.transition_table[40,0]=40\n",
        "    self.transition_table[40,1]=40\n",
        "    self.transition_table[40,2]=41\n",
        "    self.transition_table[40,3]=32\n",
        "\n",
        "    #state 41\n",
        "    self.transition_table[41,0]=40\n",
        "    self.transition_table[41,1]=41\n",
        "    self.transition_table[41,2]=42\n",
        "    self.transition_table[41,3]=33\n",
        "\n",
        "    #state 42\n",
        "    self.transition_table[42,0]=41\n",
        "    self.transition_table[42,1]=42\n",
        "    self.transition_table[42,2]=43\n",
        "    self.transition_table[42,3]=34\n",
        "\n",
        "    #state 43\n",
        "    self.transition_table[43,0]=42\n",
        "    self.transition_table[43,1]=43\n",
        "    self.transition_table[43,2]=44\n",
        "    self.transition_table[43,3]=35\n",
        "\n",
        "    #state 44\n",
        "    self.transition_table[44,0]=43\n",
        "    self.transition_table[44,1]=44\n",
        "    self.transition_table[44,2]=45\n",
        "    self.transition_table[44,3]=36\n",
        "\n",
        "    #state 45\n",
        "    self.transition_table[45,0]=44\n",
        "    self.transition_table[45,1]=45\n",
        "    self.transition_table[45,2]=46\n",
        "    self.transition_table[45,3]=37\n",
        "\n",
        "    #state 46\n",
        "    self.transition_table[46,0]=45\n",
        "    self.transition_table[46,1]=46\n",
        "    self.transition_table[46,2]=47\n",
        "    self.transition_table[46,3]=38\n",
        "\n",
        "    #state 47\n",
        "    self.transition_table[47,0]=46\n",
        "    self.transition_table[47,1]=47\n",
        "    self.transition_table[47,2]=47\n",
        "    self.transition_table[47,3]=39\n",
        "\n",
        "###Walls\n",
        "    self.transition_table[14,0]==[]\n",
        "    self.transition_table[14,1]==[]\n",
        "    self.transition_table[14,2]==[]\n",
        "    self.transition_table[14,3]==[]\n",
        "\n",
        "    self.transition_table[15,0]==[]\n",
        "    self.transition_table[15,1]==[]\n",
        "    self.transition_table[15,2]==[]\n",
        "    self.transition_table[15,3]==[]\n",
        "\n",
        " #Terminal States\n",
        "\n",
        "    for k in range(0,4,1):\n",
        "        self.transition_table[7,k]=7\n",
        "        self.transition_table[4,k]=4\n",
        "        self.transition_table[10,k]=10\n",
        "        self.transition_table[12,k]=12\n",
        "        self.transition_table[18,k]=18\n",
        "        self.transition_table[26,k]=26\n",
        "\n",
        "Goal_vs_Hole_v0.init_transition_table = init_transition_table\n"
      ],
      "metadata": {
        "id": "0hdCsBXqXNQo"
      },
      "execution_count": 118,
      "outputs": []
    },
    {
      "cell_type": "code",
      "source": [
        "## start of episode\n",
        "def reset(self,start_state=0):\n",
        "    self.state=start_state\n",
        "    return self.state\n",
        "\n",
        "Goal_vs_Hole_v0.reset = reset"
      ],
      "metadata": {
        "id": "KXyWknxbXSMA"
      },
      "execution_count": 119,
      "outputs": []
    },
    {
      "cell_type": "code",
      "source": [
        "def __init__(self, start_state=0):\n",
        "  # 4 action\n",
        "  # 0-Left 1-Down 2-Right 3-Up\n",
        "    self.col=4\n",
        "\n",
        "  # states\n",
        "    self.row = 48\n",
        "\n",
        "  #setup the environment\n",
        "    self.q_table = np.zeros([self.row,self.col])\n",
        "    self.init_transition_table()\n",
        "    self.init_reward_table()\n",
        "\n",
        "  #discount Factor\n",
        "    self.gamma=0.9\n",
        "\n",
        "  #90% exploration, 10% precent exploration\n",
        "    self.epsilon=0.1\n",
        "\n",
        "  ##exploration decays by this factor every episode\n",
        "    self.epsion_decay=0.99 # since it has not been given in the problem\n",
        "  ## eplore 10% and exploit 90%\n",
        "    self.epsilon_min=0.1\n",
        "\n",
        "  #Reset the environemnt\n",
        "    self.reset(start_state)\n",
        "    self.is_explore=True\n",
        "\n",
        "Goal_vs_Hole_v0.__init__=__init__"
      ],
      "metadata": {
        "id": "o-OByumvXU44"
      },
      "execution_count": 151,
      "outputs": []
    },
    {
      "cell_type": "code",
      "source": [
        "#Agent win when the goal is reached\n",
        "def is_in_win_state(self):\n",
        "    return self.state==7\n",
        "Goal_vs_Hole_v0.is_in_win_state = is_in_win_state"
      ],
      "metadata": {
        "id": "cHq44WU3XWyh"
      },
      "execution_count": 125,
      "outputs": []
    },
    {
      "cell_type": "code",
      "source": [
        "# excute the action on the environment\n",
        "def step(self, action):\n",
        "  #determine the next_state given state and action\n",
        "    next_state=self.transition_table[self.state, action]\n",
        "  # done is true if next_state is Goal or Hole\n",
        "    done = next_state==7 or next_state==4 or next_state==10 or next_state==12 or next_state==18 or next_state==26\n",
        "\n",
        "  #reward given the state and action (collect reward)\n",
        "    reward=self.reward_table[self.state, action]\n",
        "  # the environmennt is now in new state\n",
        "    self.state=next_state\n",
        "\n",
        "    return next_state, reward, done, action\n",
        "\n",
        "Goal_vs_Hole_v0.step = step"
      ],
      "metadata": {
        "id": "NvM5uNHJXZNV"
      },
      "execution_count": 127,
      "outputs": []
    },
    {
      "cell_type": "code",
      "source": [
        "# determine the next Action\n",
        "def act(self):\n",
        "  #-Left 1-Down 2-Right #-Up\n",
        "    if np.random.rand() <=  self.epsilon:\n",
        "  #explore - do random actions\n",
        "       self.is_explore = True\n",
        "  #find valid transitions from current state\n",
        "    valid_actions_from_state = np.where(self.transition_table[self.state,:]!= self.state)\n",
        "  #return np.random.choice\n",
        "    #return np.random.choice([0,action])\n",
        "    if valid_actions_from_state[0]==[]:\n",
        "       return np.random.choice(np.arange(0,4,1))\n",
        "    if valid_actions_from_state[0]!=[]:\n",
        "       return np.random.choice(valid_actions_from_state[0])\n",
        "  # otherwise, action is from exploitation\n",
        "    self.is_explore = False\n",
        "    return np.argmax(self.q_table[self.state])\n",
        "\n",
        "Goal_vs_Hole_v0.act = act"
      ],
      "metadata": {
        "id": "Lf_WH42OXbIm"
      },
      "execution_count": 128,
      "outputs": []
    },
    {
      "cell_type": "markdown",
      "source": [
        "### SARSA update"
      ],
      "metadata": {
        "id": "MXAqD1okXjf3"
      }
    },
    {
      "cell_type": "code",
      "source": [
        "# SARSA - Update Q Table using Q(s2,a2)\n",
        "\n",
        "def update_q_table(self,state,action,reward, next_state,action2):\n",
        "    #Q(s,a)= reward + gammaQ(s2,a2)\n",
        "    Alfa=0.0001\n",
        "    Alfa+=Alfa\n",
        "    if Alfa==1:\n",
        "        Alfa=0.9999\n",
        "    q_values=self.q_table[state, action]+Alfa*(reward+self.gamma*(self.q_table[next_state, action2])-self.q_table[state, action])\n",
        "    self.q_table[state, action]= q_values\n",
        "Goal_vs_Hole_v0.update_q_table = update_q_table"
      ],
      "metadata": {
        "id": "Hl6Ikck6Xn2H"
      },
      "execution_count": 146,
      "outputs": []
    },
    {
      "cell_type": "code",
      "source": [
        "# we can update exploit and exploration rate\n",
        "def update_epsilon(self, do_test=False):\n",
        "    if do_test:\n",
        "        self.epsilon = 0 # no exploration\n",
        "    else:\n",
        "        if self.epsilon >self.epsilon_min:\n",
        "           self.epsilon == self.epsilon_decay\n",
        "\n",
        "Goal_vs_Hole_v0.update_epsilon = update_epsilon"
      ],
      "metadata": {
        "id": "4WhH-dWhXtaf"
      },
      "execution_count": 130,
      "outputs": []
    },
    {
      "cell_type": "markdown",
      "source": [
        "### priniting"
      ],
      "metadata": {
        "id": "VgHrP_7aZpqj"
      }
    },
    {
      "cell_type": "code",
      "source": [
        "# print Q-Table\n",
        "def print_q_table(self):\n",
        "    \"\"\"UI to dump Q Table contents\"\"\"\n",
        "    print(\"Q-Table (Epsilon: %0.2f)\" % self.epsilon)\n",
        "    print(self.q_table)\n",
        "Goal_vs_Hole_v0.print_q_table = print_q_table"
      ],
      "metadata": {
        "id": "h2F8CD4fZm8T"
      },
      "execution_count": 131,
      "outputs": []
    },
    {
      "cell_type": "markdown",
      "source": [
        "## Main Loop of SARSA"
      ],
      "metadata": {
        "id": "8aMxi4V1ZtQx"
      }
    },
    {
      "cell_type": "code",
      "source": [
        "## two Flags\n",
        "do_trainig= True\n",
        "do_test=False"
      ],
      "metadata": {
        "id": "hlE_sQFsZtD7"
      },
      "execution_count": 147,
      "outputs": []
    },
    {
      "cell_type": "code",
      "source": [
        "# main loop of SARSA\n",
        "if do_trainig ==True:\n",
        "   wins = 0\n",
        "   maxwins=200\n",
        "   delay=0\n",
        "   episode_count=1000\n",
        "   # scores (max number of steps bet goal)-good indicater of learninig\n",
        "   scores=deque(maxlen=maxwins)\n",
        "   goal_vs_hole_v0_world=Goal_vs_Hole_v0()\n",
        "   step=1\n",
        "   exit_flag= False\n",
        "   Reward_episode=np.zeros((episode_count,1))\n",
        "    # state, action, reward, next state iteration\n",
        "   cumulative_reward = []\n",
        "   G= np.zeros(episode_count)\n",
        "   global_reward = np.zeros(episode_count)\n",
        "   for episode in range(episode_count):\n",
        "\n",
        "       state = goal_vs_hole_v0_world.reset()\n",
        "       done = False\n",
        "       R =0\n",
        "       k=1\n",
        "       n=0\n",
        "       while not done:\n",
        "             k=k+1\n",
        "             n=n+1\n",
        "             action =  goal_vs_hole_v0_world.act()\n",
        "             next_state, reward, done, action =  goal_vs_hole_v0_world.step(action)\n",
        "             action_2 = goal_vs_hole_v0_world.act()\n",
        "             goal_vs_hole_v0_world.update_q_table(state, action, reward, next_state, action_2)\n",
        "            #  print(action_2)\n",
        "            #  print(action)\n",
        "             R = reward + R\n",
        "             global_reward[episode] += reward\n",
        "            #  print(R)\n",
        "             state = next_state\n",
        "            # if episode is done, perform housekeeping\n",
        "             if done:\n",
        "                cumulative_reward.append(R)\n",
        "                G[episode]=global_reward[episode] /n\n",
        "                #sys.modules[cumulative_reward].__dict__.clear()\n",
        "                if  goal_vs_hole_v0_world.is_in_win_state():\n",
        "                    wins += 1\n",
        "                    scores.append(step)\n",
        "                    if wins > maxwins:\n",
        "                        exit_flag = True\n",
        "                goal_vs_hole_v0_world.update_epsilon = update_epsilon\n",
        "                # Exploration-Exploitation is updated every episode\n",
        "\n",
        "                step = 1\n",
        "             else:\n",
        "                step += 1\n",
        "             if exit_flag==True:\n",
        "               break\n",
        "             if exit_flag==True:\n",
        "               break\n",
        "print(\"Saving world for future use...\")\n",
        "print(scores)\n",
        "goal_vs_hole_v0_world.print_q_table()"
      ],
      "metadata": {
        "colab": {
          "base_uri": "https://localhost:8080/"
        },
        "id": "y8VRSQ1ZZzv9",
        "outputId": "87a64a94-be30-4f89-e2cd-975815e5ba11"
      },
      "execution_count": 152,
      "outputs": [
        {
          "output_type": "stream",
          "name": "stderr",
          "text": [
            "<ipython-input-128-762d72a7febb>:11: DeprecationWarning: elementwise comparison failed; this will raise an error in the future.\n",
            "  if valid_actions_from_state[0]==[]:\n",
            "<ipython-input-128-762d72a7febb>:11: DeprecationWarning: The truth value of an empty array is ambiguous. Returning False, but in future this will result in an error. Use `array.size > 0` to check that an array is not empty.\n",
            "  if valid_actions_from_state[0]==[]:\n"
          ]
        },
        {
          "output_type": "stream",
          "name": "stdout",
          "text": [
            "Saving world for future use...\n",
            "deque([31, 29], maxlen=200)\n",
            "Q-Table (Epsilon: 0.10)\n",
            "[[ 0.00000000e+00 -1.94768342e-01 -1.94463990e-01  0.00000000e+00]\n",
            " [-9.55821029e-02 -1.66496463e-01 -1.56159154e-01  0.00000000e+00]\n",
            " [-3.98907068e-02 -4.07505858e+00 -4.14705555e-02  0.00000000e+00]\n",
            " [-1.78661113e-02 -1.33771672e-02 -1.29171484e+00  0.00000000e+00]\n",
            " [ 0.00000000e+00  0.00000000e+00  0.00000000e+00  0.00000000e+00]\n",
            " [-3.99960000e-02 -1.01083075e-03 -5.99916008e-04  0.00000000e+00]\n",
            " [-2.00000000e-04  0.00000000e+00  0.00000000e+00  0.00000000e+00]\n",
            " [ 0.00000000e+00  0.00000000e+00  0.00000000e+00  0.00000000e+00]\n",
            " [ 0.00000000e+00 -1.08408962e-01 -1.62215011e-01 -1.17743505e-01]\n",
            " [-6.76730489e-02 -7.65701370e-02 -5.88060601e+00 -5.99296879e-02]\n",
            " [ 0.00000000e+00  0.00000000e+00  0.00000000e+00  0.00000000e+00]\n",
            " [-2.99580364e-01 -4.51642790e-03 -3.99240911e-01 -4.07104100e-03]\n",
            " [ 0.00000000e+00  0.00000000e+00  0.00000000e+00  0.00000000e+00]\n",
            " [-5.99880008e-02 -6.00635850e-04  0.00000000e+00 -1.81676500e-03]\n",
            " [ 0.00000000e+00  0.00000000e+00  0.00000000e+00  0.00000000e+00]\n",
            " [ 0.00000000e+00  0.00000000e+00  0.00000000e+00  0.00000000e+00]\n",
            " [ 0.00000000e+00 -6.04180207e-02 -8.18952719e-02 -6.18782756e-02]\n",
            " [-3.40324439e-02 -5.38516527e-02 -3.34317821e+00 -6.51315601e-02]\n",
            " [ 0.00000000e+00  0.00000000e+00  0.00000000e+00  0.00000000e+00]\n",
            " [-1.79856067e-01 -2.91836694e-03 -2.83348568e-03 -2.52595497e-03]\n",
            " [-1.26106694e-03 -1.40031306e-03 -1.60076043e-03 -1.59888045e-01]\n",
            " [-1.45732020e-03 -1.60042760e-03 -3.39888034e-03 -2.02777415e-03]\n",
            " [-2.79920971e-03 -2.19977999e-03 -3.19930438e-03  0.00000000e+00]\n",
            " [-3.19926785e-03 -2.00046748e-03  0.00000000e+00  0.00000000e+00]\n",
            " [ 0.00000000e+00 -3.32261004e-02 -4.57274410e-02 -3.80219059e-02]\n",
            " [-2.34903062e-02 -2.55384400e-02 -2.54725385e+00 -3.60501012e-02]\n",
            " [ 0.00000000e+00  0.00000000e+00  0.00000000e+00  0.00000000e+00]\n",
            " [-3.19520448e-01 -4.20317258e-03 -1.39977490e-03 -4.39838528e-03]\n",
            " [-2.85752091e-03 -1.60078821e-03 -1.60085896e-03 -1.59960042e-03]\n",
            " [-1.80004774e-03 -3.00004756e-03 -1.79967605e-03 -3.39780782e-03]\n",
            " [-3.19818967e-03 -2.20129023e-03 -1.20069564e-03 -1.60078747e-03]\n",
            " [-1.20055177e-03 -2.79913176e-03  0.00000000e+00 -1.99992810e-03]\n",
            " [ 0.00000000e+00 -2.31567543e-02 -2.94571179e-02 -2.07292099e-02]\n",
            " [-1.80242115e-02 -2.49071734e-02 -2.52374928e-02 -2.81872457e-02]\n",
            " [-1.22436280e-02 -9.21425956e-03 -9.57870688e-03 -9.95115643e-01]\n",
            " [-6.58780953e-03 -6.01889638e-03 -4.59564800e-03 -7.57943411e-03]\n",
            " [-3.00404135e-03 -3.40764125e-03 -3.40053363e-03 -2.99890951e-03]\n",
            " [-3.39935291e-03 -3.00055119e-03 -3.39844869e-03 -3.59773309e-03]\n",
            " [-3.00008294e-03 -3.79726741e-03 -1.99992797e-03 -2.99882560e-03]\n",
            " [-2.40031138e-03 -1.60014007e-03  0.00000000e+00 -2.79787378e-03]\n",
            " [ 0.00000000e+00  0.00000000e+00 -2.27707548e-02 -2.19828370e-02]\n",
            " [-2.15931922e-02  0.00000000e+00 -1.85469983e-02 -2.08181362e-02]\n",
            " [-1.32268701e-02  0.00000000e+00 -1.65257046e-02 -1.32626776e-02]\n",
            " [-8.22415828e-03  0.00000000e+00 -1.01694828e-02 -7.19508257e-03]\n",
            " [-5.60740853e-03  0.00000000e+00 -5.19536046e-03 -3.20002912e-03]\n",
            " [-3.80348917e-03  0.00000000e+00 -3.19966342e-03 -3.99765875e-03]\n",
            " [-2.80078769e-03  0.00000000e+00 -3.39866484e-03 -3.79755378e-03]\n",
            " [-3.00213048e-03  0.00000000e+00  0.00000000e+00 -1.99999960e-03]]\n"
          ]
        }
      ]
    },
    {
      "cell_type": "markdown",
      "source": [
        "### printing Output"
      ],
      "metadata": {
        "id": "fARJDmslJcdL"
      }
    },
    {
      "cell_type": "code",
      "source": [
        "print('Cumulative to all Episodes = ',np.sum(cumulative_reward)/episode_count)\n",
        "a=np.where(np.array(cumulative_reward)==np.max(np.array(cumulative_reward)))\n",
        "print('Maximum Rewards in Episde = ',a)\n",
        "print('Minumim Cumulative Reward through All episodes = ',np.min(np.array(cumulative_reward)))\n",
        "print('Maximum Cumulative Rewards Through All Episodes = ',np.max(np.array(cumulative_reward)))"
      ],
      "metadata": {
        "colab": {
          "base_uri": "https://localhost:8080/"
        },
        "id": "5a8Tg0YmJhXM",
        "outputId": "488059c1-c283-4f2f-ec70-b0151b3d7172"
      },
      "execution_count": 153,
      "outputs": [
        {
          "output_type": "stream",
          "name": "stdout",
          "text": [
            "Cumulative to all Episodes =  -111.579\n",
            "Maximum Rewards in Episde =  (array([868]),)\n",
            "Minumim Cumulative Reward through All episodes =  -254.0\n",
            "Maximum Cumulative Rewards Through All Episodes =  -28.0\n"
          ]
        }
      ]
    },
    {
      "cell_type": "markdown",
      "source": [
        "## Plotting"
      ],
      "metadata": {
        "id": "bCHGulB6e3wV"
      }
    },
    {
      "cell_type": "code",
      "source": [
        "a=1\n",
        "b=np.zeros([1000])\n",
        "for i in range(0,1000):\n",
        "\n",
        "    b[i]=global_reward[i]/a\n",
        "    a = a + 1\n",
        "\n",
        "plt.figure(1)\n",
        "plt.plot(np.arange(0,1000), np.array(cumulative_reward)[0:1000])\n",
        "font1 = {'family':'serif','color':'blue','size':20}\n",
        "font2 = {'family':'serif','color':'darkred','size':15}\n",
        "plt.title(\"SARSA\", fontdict = font1)\n",
        "plt.xlabel(\"Eposides=10000, epsilon =0.1, gamma=0.9\", fontdict = font2)\n",
        "plt.ylabel(\"Cumulative Rewards\", fontdict = font2)\n",
        "plt.figure(2)\n",
        "plt.plot(np.arange(0,130),b[0:130], color='red', linewidth='3')\n",
        "plt.title(\"SARSA\", fontdict = font1)\n",
        "plt.xlabel(\"Eposides\", fontdict = font2)\n",
        "plt.ylabel(\"Average Rewards\", fontdict = font2)\n",
        "plt.grid()"
      ],
      "metadata": {
        "colab": {
          "base_uri": "https://localhost:8080/",
          "height": 951
        },
        "id": "cOK5CTzhe3hW",
        "outputId": "10f7752d-b78a-4ba8-88b5-7e273bdae66b"
      },
      "execution_count": 154,
      "outputs": [
        {
          "output_type": "display_data",
          "data": {
            "text/plain": [
              "<Figure size 640x480 with 1 Axes>"
            ],
            "image/png": "[encoded data removed]"
          },
          "metadata": {}
        },
        {
          "output_type": "display_data",
          "data": {
            "text/plain": [
              "<Figure size 640x480 with 1 Axes>"
            ],
            "image/png": "[encoded data removed]"
          },
          "metadata": {}
        }
      ]
    },
    {
      "cell_type": "code",
      "source": [
        "a=1\n",
        "b=np.zeros([10000])\n",
        "for i in range(0,10000):\n",
        "\n",
        "    b[i]=global_reward[i]/a\n",
        "    a = a + 1\n"
      ],
      "metadata": {
        "id": "LivczOBm50ue"
      },
      "execution_count": 93,
      "outputs": []
    },
    {
      "cell_type": "code",
      "source": [
        "a"
      ],
      "metadata": {
        "colab": {
          "base_uri": "https://localhost:8080/"
        },
        "id": "zn6sudOu8c_4",
        "outputId": "81fabcd1-ba6f-4b72-9108-5d52a1fb227e"
      },
      "execution_count": 94,
      "outputs": [
        {
          "output_type": "execute_result",
          "data": {
            "text/plain": [
              "10001"
            ]
          },
          "metadata": {},
          "execution_count": 94
        }
      ]
    },
    {
      "cell_type": "code",
      "source": [
        "b"
      ],
      "metadata": {
        "colab": {
          "base_uri": "https://localhost:8080/"
        },
        "id": "KHIhmu7X662G",
        "outputId": "96ea12bc-deab-426b-ca31-fe360deb845f"
      },
      "execution_count": 95,
      "outputs": [
        {
          "output_type": "stream",
          "name": "stderr",
          "text": [
            "/usr/local/lib/python3.10/dist-packages/ipykernel/ipkernel.py:283: DeprecationWarning: `should_run_async` will not call `transform_cell` automatically in the future. Please pass the result to `transformed_cell` argument and any exception that happen during thetransform in `preprocessing_exc_tuple` in IPython 7.17 and above.\n",
            "  and should_run_async(code)\n"
          ]
        },
        {
          "output_type": "execute_result",
          "data": {
            "text/plain": [
              "array([-1.08000000e+02, -5.25000000e+01, -3.53333333e+01, ...,\n",
              "       -1.02020404e-02, -1.06010601e-02, -1.03000000e-02])"
            ]
          },
          "metadata": {},
          "execution_count": 95
        }
      ]
    },
    {
      "cell_type": "code",
      "source": [
        "plt.plot(np.arange(0,200),b[0:200])"
      ],
      "metadata": {
        "colab": {
          "base_uri": "https://localhost:8080/",
          "height": 448
        },
        "id": "1er15Es_8tbs",
        "outputId": "5641ad98-affa-4ead-e198-67b06e333909"
      },
      "execution_count": 97,
      "outputs": [
        {
          "output_type": "execute_result",
          "data": {
            "text/plain": [
              "[<matplotlib.lines.Line2D at 0x797dd3a423e0>]"
            ]
          },
          "metadata": {},
          "execution_count": 97
        },
        {
          "output_type": "display_data",
          "data": {
            "text/plain": [
              "<Figure size 640x480 with 1 Axes>"
            ],
            "image/png": "[encoded data removed]"
          },
          "metadata": {}
        }
      ]
    },
    {
      "cell_type": "code",
      "source": [],
      "metadata": {
        "id": "qCWYz2f185mj"
      },
      "execution_count": null,
      "outputs": []
    }
  ]
}