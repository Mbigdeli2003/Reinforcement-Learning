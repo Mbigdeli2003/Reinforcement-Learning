{
  "nbformat": 4,
  "nbformat_minor": 0,
  "metadata": {
    "colab": {
      "provenance": [],
      "toc_visible": true,
      "authorship_tag": "ABX9TyNIYzDRkY0KAXzTNdCXHFGq",
      "include_colab_link": true
    },
    "kernelspec": {
      "name": "python3",
      "display_name": "Python 3"
    },
    "language_info": {
      "name": "python"
    }
  },
  "cells": [
    {
      "cell_type": "markdown",
      "metadata": {
        "id": "view-in-github",
        "colab_type": "text"
      },
      "source": [
        "<a href=\"https://colab.research.google.com/github/Mbigdeli2003/Reinforcement-Learning/blob/main/Sutton_4_7_Nonlinear.ipynb\" target=\"_parent\"><img src=\"https://colab.research.google.com/assets/colab-badge.svg\" alt=\"Open In Colab\"/></a>"
      ]
    },
    {
      "cell_type": "markdown",
      "source": [
        "# Sutton 4.7.Exercise"
      ],
      "metadata": {
        "id": "0MqRWCdPw4Pn"
      }
    },
    {
      "cell_type": "markdown",
      "source": [
        "### Importing Libraries"
      ],
      "metadata": {
        "id": "rMm3w7fRxT74"
      }
    },
    {
      "cell_type": "code",
      "source": [
        "#IMPORTS\n",
        "import numpy as np\n",
        "import matplotlib.pyplot as plt\n",
        "import seaborn as sns\n",
        "from scipy.stats import poisson\n",
        "import sys"
      ],
      "metadata": {
        "id": "mJIPgsS7xZ8v"
      },
      "execution_count": null,
      "outputs": []
    },
    {
      "cell_type": "markdown",
      "source": [
        "###Defining Problem Parameters\n",
        "\n"
      ],
      "metadata": {
        "id": "AAC_zxpqxdn6"
      }
    },
    {
      "cell_type": "code",
      "execution_count": null,
      "metadata": {
        "id": "rLV2MEcumXnp"
      },
      "outputs": [],
      "source": [
        "#Problem Parameters\n",
        "class jcp:\n",
        "    @staticmethod\n",
        "    def max_cars():\n",
        "        return 20\n",
        "\n",
        "    @staticmethod\n",
        "    def γ():\n",
        "        return 0.9\n",
        "\n",
        "    @staticmethod\n",
        "    def credit_reward():\n",
        "        return 10\n",
        "\n",
        "    @staticmethod\n",
        "    def moving_reward():\n",
        "        return -2\n",
        "\n",
        "    @staticmethod\n",
        "    def second_parking_lot_reward():\n",
        "        return -4     # incrring 4$"
      ]
    },
    {
      "cell_type": "markdown",
      "source": [
        "Poisson Function"
      ],
      "metadata": {
        "id": "aih-bGsl5VrH"
      }
    },
    {
      "cell_type": "code",
      "source": [
        "class poisson_:\n",
        "\n",
        "    def __init__(self, λ):\n",
        "        self.λ = λ\n",
        "\n",
        "        ε = 0.01\n",
        "\n",
        "\n",
        "        # [α , β] is the range of n's for which the pmf value is above ε\n",
        "        self.α = 0\n",
        "        state = 1\n",
        "        self.vals = {}\n",
        "        summer = 0\n",
        "\n",
        "        while(1):\n",
        "            if state == 1:\n",
        "                temp = poisson.pmf(self.α, self.λ)\n",
        "                if(temp <= ε):\n",
        "                    self.α+=1\n",
        "                else:\n",
        "                    self.vals[self.α] = temp\n",
        "                    summer += temp\n",
        "                    self.β = self.α+1\n",
        "                    state = 2\n",
        "            elif state == 2:\n",
        "                temp = poisson.pmf(self.β, self.λ)\n",
        "                if(temp > ε):\n",
        "                    self.vals[self.β] = temp\n",
        "                    summer += temp\n",
        "                    self.β+=1\n",
        "                else:\n",
        "                    break\n",
        "\n",
        "        # normalizing the pmf, values of n outside of [α, β] have pmf = 0\n",
        "\n",
        "        added_val = (1-summer)/(self.β-self.α)\n",
        "        for key in self.vals:\n",
        "            self.vals[key] += added_val\n",
        "\n",
        "\n",
        "    def f(self, n):\n",
        "        try:\n",
        "            Ret_value = self.vals[n]\n",
        "        except(KeyError):\n",
        "            Ret_value = 0\n",
        "        finally:\n",
        "            return Ret_value"
      ],
      "metadata": {
        "id": "8PAAH5r15g3g"
      },
      "execution_count": null,
      "outputs": []
    },
    {
      "cell_type": "markdown",
      "source": [
        "### initial location"
      ],
      "metadata": {
        "id": "wVZaVM4q9E_y"
      }
    },
    {
      "cell_type": "code",
      "source": [
        "class location:\n",
        "\n",
        "    def __init__(self, req, ret):\n",
        "        self.α = req                             #value of lambda for requests\n",
        "        self.β = ret                             #value of lambda for returns\n",
        "        self.poissonα = poisson_(self.α)\n",
        "        self.poissonβ = poisson_(self.β)"
      ],
      "metadata": {
        "id": "jy7EXR959Ibx"
      },
      "execution_count": null,
      "outputs": []
    },
    {
      "cell_type": "code",
      "source": [
        "# First Location\n",
        "A = location(3,3)\n",
        "B = location(4,2)\n",
        "A\n",
        "B"
      ],
      "metadata": {
        "id": "GTH2I7Bu9XRZ"
      },
      "execution_count": null,
      "outputs": []
    },
    {
      "cell_type": "markdown",
      "source": [
        "### Policy Matrice initilize"
      ],
      "metadata": {
        "id": "GuXvB-mNCb8A"
      }
    },
    {
      "cell_type": "code",
      "source": [
        "value = np.zeros((jcp.max_cars()+1, jcp.max_cars()+1))\n",
        "policy = value.copy().astype(int)"
      ],
      "metadata": {
        "id": "9wwoaQghCh0_"
      },
      "execution_count": null,
      "outputs": []
    },
    {
      "cell_type": "code",
      "source": [
        "#Applying Action def init\n",
        "def apply_action(state, action):\n",
        "    return [max(min(state[0] - action, jcp.max_cars()),0) , max(min(state[1] + action, jcp.max_cars()),0)]"
      ],
      "metadata": {
        "id": "0cV5blUiCmxl"
      },
      "execution_count": null,
      "outputs": []
    },
    {
      "cell_type": "markdown",
      "source": [
        "###Def for Expected reward"
      ],
      "metadata": {
        "id": "1rpEctiJDKl0"
      }
    },
    {
      "cell_type": "code",
      "source": [
        "\n",
        "def expected_reward(state, action):\n",
        "    global value\n",
        "    \"\"\"\n",
        "    state  : It's a pair of integers, # of cars at A and at B\n",
        "    action : # of cars transferred from A to B,  -5 <= action <= 5\n",
        "    \"\"\"\n",
        "\n",
        "\n",
        "    ψ = 0 #reward\n",
        "    new_state = apply_action(state, action)\n",
        "\n",
        "    # adding reward for moving cars from one location to another (which is negative)\n",
        "\n",
        "    if action <= 0:\n",
        "        ψ = ψ + jcp.moving_reward() * abs(action)\n",
        "    else:\n",
        "        ψ = ψ + jcp.moving_reward() * (action - 1)    #one car is moved by one of Jack's employees for free\n",
        "\n",
        "    # adding reward for second parking lot (which is also negative)\n",
        "\n",
        "    if new_state[0] > 10:\n",
        "        ψ = ψ + jcp.second_parking_lot_reward()\n",
        "\n",
        "    if new_state[1] > 10:\n",
        "        ψ = ψ + jcp.second_parking_lot_reward()\n",
        "\n",
        "    # there are four discrete random variables which determine the probability distribution of the reward and next state\n",
        "\n",
        "    for Aα in range(A.poissonα.α, A.poissonα.β):\n",
        "        for Bα in range(B.poissonα.α, B.poissonα.β):\n",
        "            for Aβ in range(A.poissonβ.α, A.poissonβ.β):\n",
        "                for Bβ in range(B.poissonβ.α, B.poissonβ.β):\n",
        "                    \"\"\"\n",
        "                    Aα : sample of cars requested at location A\n",
        "                    Aβ : sample of cars returned at location A\n",
        "                    Bα : sample of cars requested at location B\n",
        "                    Bβ : sample of cars returned at location B\n",
        "                    ζ  : probability of this event happening\n",
        "                    \"\"\"\n",
        "\n",
        "                    # all four variables are independent of each other\n",
        "                    ζ = A.poissonα.vals[Aα] * B.poissonα.vals[Bα] * A.poissonβ.vals[Aβ] * B.poissonβ.vals[Bβ]\n",
        "\n",
        "                    valid_requests_A = min(new_state[0], Aα)\n",
        "                    valid_requests_B = min(new_state[1], Bα)\n",
        "\n",
        "                    rew = (valid_requests_A + valid_requests_B)*(jcp.credit_reward())\n",
        "\n",
        "                    #calculating the new state based on the values of the four random variables\n",
        "                    new_s = [0,0]\n",
        "                    new_s[0] = max(min(new_state[0] - valid_requests_A + Aβ, jcp.max_cars()),0)\n",
        "                    new_s[1] = max(min(new_state[1] - valid_requests_B + Bβ, jcp.max_cars()),0)\n",
        "\n",
        "                    #Bellman's equation\n",
        "                    ψ += ζ * (rew + jcp.γ() * value[new_s[0]][new_s[1]])\n",
        "\n",
        "    return ψ"
      ],
      "metadata": {
        "id": "w8pz8EmNCn6_"
      },
      "execution_count": null,
      "outputs": []
    },
    {
      "cell_type": "markdown",
      "source": [
        "## Policy"
      ],
      "metadata": {
        "id": "3A7pIh-5DPZz"
      }
    },
    {
      "cell_type": "code",
      "source": [
        "def policy_evaluation():\n",
        "\n",
        "    global value\n",
        "\n",
        "    # here policy_evaluation has a static variable ε whose values decreases over time\n",
        "    ε = policy_evaluation.ε\n",
        "\n",
        "    policy_evaluation.ε /= 10\n",
        "\n",
        "    while(1):\n",
        "        δ = 0\n",
        "\n",
        "        for i in range(value.shape[0]):\n",
        "            for j in range(value.shape[1]):\n",
        "                # value[i][j] denotes the value of the state [i,j]\n",
        "\n",
        "                old_val = value[i][j]\n",
        "                value[i][j] = expected_reward([i,j], policy[i][j])\n",
        "\n",
        "                δ = max(δ, abs(value[i][j] - old_val))\n",
        "                print('.', end = '')\n",
        "                sys.stdout.flush()\n",
        "        print(δ)\n",
        "        sys.stdout.flush()\n",
        "\n",
        "        if δ < ε:\n",
        "            break"
      ],
      "metadata": {
        "id": "Jj5_oSo_DTXO"
      },
      "execution_count": null,
      "outputs": []
    },
    {
      "cell_type": "markdown",
      "source": [
        "### Policy Improvemnet"
      ],
      "metadata": {
        "id": "UPq5NQxaDbWU"
      }
    },
    {
      "cell_type": "code",
      "source": [
        "#initial value of ε\n",
        "policy_evaluation.ε = 50\n",
        "def policy_improvement():\n",
        "\n",
        "    global policy\n",
        "\n",
        "    policy_stable = True\n",
        "    for i in range(value.shape[0]):\n",
        "        for j in range(value.shape[1]):\n",
        "            old_action = policy[i][j]\n",
        "\n",
        "            max_act_val = None\n",
        "            max_act = None\n",
        "\n",
        "            τ12 = min(i,5)       # if I have say 3 cars at the first location, then I can atmost move 3 from 1 to 2\n",
        "            τ21 = -min(j,5)      # if I have say 2 cars at the second location, then I can atmost move 2 from 2 to 1\n",
        "\n",
        "            for act in range(τ21,τ12+1):\n",
        "                σ = expected_reward([i,j], act)\n",
        "                if max_act_val == None:\n",
        "                    max_act_val = σ\n",
        "                    max_act = act\n",
        "                elif max_act_val < σ:\n",
        "                    max_act_val = σ\n",
        "                    max_act = act\n",
        "\n",
        "            policy[i][j] = max_act\n",
        "\n",
        "            if old_action!= policy[i][j]:\n",
        "                policy_stable = False\n",
        "\n",
        "    return policy_stable"
      ],
      "metadata": {
        "id": "2EY2BVfhDpNb"
      },
      "execution_count": null,
      "outputs": []
    },
    {
      "cell_type": "code",
      "source": [
        "def save_policy():\n",
        "    save_policy.counter += 1\n",
        "    ax = sns.heatmap(policy, linewidth=0.5)\n",
        "    ax.invert_yaxis()\n",
        "    plt.savefig('policy'+str(save_policy.counter)+'.svg')\n",
        "    plt.title('Policy')\n",
        "    plt.show()\n"
      ],
      "metadata": {
        "id": "wZHQAm3GK-Wb"
      },
      "execution_count": null,
      "outputs": []
    },
    {
      "cell_type": "code",
      "source": [
        "def save_value():\n",
        "    save_value.counter += 1\n",
        "    ax = sns.heatmap(value, linewidth=0.5)\n",
        "    ax.invert_yaxis()\n",
        "    plt.savefig('value'+ str(save_value.counter)+'.svg')\n",
        "    plt.title('value')\n",
        "    plt.show()\n"
      ],
      "metadata": {
        "id": "VWBIu0teLCma"
      },
      "execution_count": null,
      "outputs": []
    },
    {
      "cell_type": "markdown",
      "source": [
        "### Policy Evalution, Policy Improvement"
      ],
      "metadata": {
        "id": "7SIawoiWL1To"
      }
    },
    {
      "cell_type": "code",
      "source": [
        "#loop Continues (policy Improvemnet) until Policy get stable\n",
        "save_policy.counter = 0\n",
        "save_value.counter = 0\n",
        "while(1):\n",
        "    policy_evaluation()\n",
        "    ρ = policy_improvement()\n",
        "    save_value()\n",
        "    save_policy()\n",
        "    if ρ == True:\n",
        "        break"
      ],
      "metadata": {
        "colab": {
          "base_uri": "https://localhost:8080/"
        },
        "id": "M4O9UjKrLFQ8",
        "outputId": "1a175625-f2bc-4c7e-f2e6-2a88c6b0d98d"
      },
      "execution_count": null,
      "outputs": [
        {
          "output_type": "stream",
          "name": "stdout",
          "text": [
            ".........................................................................................................................................................................................................................................................................................................................................................................................................................................................3.410605131648481e-12\n",
            ".........................................................................................................................................................................................................................................................................................................................................................................................................................................................2.9558577807620168e-12\n",
            ".........................................................................................................................................................................................................................................................................................................................................................................................................................................................2.5579538487363607e-12\n",
            ".........................................................................................................................................................................................................................................................................................................................................................................................................................................................1.9326762412674725e-12\n",
            ".........................................................................................................................................................................................................................................................................................................................................................................................................................................................1.8189894035458565e-12\n",
            ".........................................................................................................................................................................................................................................................................................................................................................................................................................................................1.4779288903810084e-12\n",
            ".........................................................................................................................................................................................................................................................................................................................................................................................................................................................1.3642420526593924e-12\n",
            ".........................................................................................................................................................................................................................................................................................................................................................................................................................................................1.0800249583553523e-12\n",
            ".........................................................................................................................................................................................................................................................................................................................................................................................................................................................1.0231815394945443e-12\n",
            ".........................................................................................................................................................................................................................................................................................................................................................................................................................................................5.684341886080801e-13\n",
            ".........................................................................................................................................................................................................................................................................................................................................................................................................................................................5.684341886080801e-13\n",
            ".........................................................................................................................................................................................................................................................................................................................................................................................................................................................5.684341886080801e-13\n",
            ".........................................................................................................................................................................................................................................................................................................................................................................................................................................................5.115907697472721e-13\n",
            ".........................................................................................................................................................................................................................................................................................................................................................................................................................................................5.684341886080801e-13\n",
            ".........................................................................................................................................................................................................................................................................................................................................................................................................................................................4.547473508864641e-13\n"
          ]
        },
        {
          "output_type": "display_data",
          "data": {
            "text/plain": [
              "<Figure size 640x480 with 2 Axes>"
            ],
            "image/png": "[encoded data removed]"
          },
          "metadata": {}
        },
        {
          "output_type": "display_data",
          "data": {
            "text/plain": [
              "<Figure size 640x480 with 2 Axes>"
            ],
            "image/png": "[encoded data removed]"
          },
          "metadata": {}
        }
      ]
    },
    {
      "cell_type": "code",
      "source": [],
      "metadata": {
        "id": "znRvz3O9YVKb"
      },
      "execution_count": null,
      "outputs": []
    }
  ]
}